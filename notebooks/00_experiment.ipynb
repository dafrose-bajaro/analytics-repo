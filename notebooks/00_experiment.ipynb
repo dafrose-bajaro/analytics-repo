{
 "cells": [
  {
   "cell_type": "markdown",
   "id": "01d3388d-cdaa-49f8-98bb-316ca2a86994",
   "metadata": {
    "editable": true,
    "slideshow": {
     "slide_type": ""
    },
    "tags": []
   },
   "source": [
    "# Experimental Notebook\n",
    "This notebook serves as a dump for experimentation for tables in DuckDB. "
   ]
  },
  {
   "cell_type": "markdown",
   "id": "aea98b86-e888-4b5a-b0be-727737b78760",
   "metadata": {
    "editable": true,
    "slideshow": {
     "slide_type": ""
    },
    "tags": []
   },
   "source": [
    "## Import packages"
   ]
  },
  {
   "cell_type": "code",
   "execution_count": 1,
   "id": "4987345d-1627-417e-9d66-e1fc58efc45e",
   "metadata": {},
   "outputs": [],
   "source": [
    "# install packages and establish database connections\n",
    "import duckdb\n",
    "\n",
    "conn = duckdb.connect(\"../data/lake/database.duckdb\")"
   ]
  },
  {
   "cell_type": "markdown",
   "id": "5a7f08d7-2796-49f8-9f78-536cc2927d31",
   "metadata": {
    "editable": true,
    "slideshow": {
     "slide_type": ""
    },
    "tags": []
   },
   "source": [
    "## List available tables"
   ]
  },
  {
   "cell_type": "code",
   "execution_count": 3,
   "id": "3491772b-a964-4663-9240-e901d8bf0736",
   "metadata": {
    "editable": true,
    "slideshow": {
     "slide_type": ""
    },
    "tags": []
   },
   "outputs": [
    {
     "data": {
      "text/html": [
       "<div><style>\n",
       ".dataframe > thead > tr,\n",
       ".dataframe > tbody > tr {\n",
       "  text-align: right;\n",
       "  white-space: pre-wrap;\n",
       "}\n",
       "</style>\n",
       "<small>shape: (11, 2)</small><table border=\"1\" class=\"dataframe\"><thead><tr><th>table_schema</th><th>table_name</th></tr><tr><td>str</td><td>str</td></tr></thead><tbody><tr><td>&quot;public&quot;</td><td>&quot;climate_atmosphere_raw&quot;</td></tr><tr><td>&quot;public&quot;</td><td>&quot;disease_pidsr_totals_raw&quot;</td></tr><tr><td>&quot;public&quot;</td><td>&quot;location_raw&quot;</td></tr><tr><td>&quot;public&quot;</td><td>&quot;nasa_firms_clean&quot;</td></tr><tr><td>&quot;public&quot;</td><td>&quot;nasa_firms_raw&quot;</td></tr><tr><td>&hellip;</td><td>&hellip;</td></tr><tr><td>&quot;public&quot;</td><td>&quot;project_cchain_climate_atmosph…</td></tr><tr><td>&quot;public&quot;</td><td>&quot;project_cchain_disease_pidsr_t…</td></tr><tr><td>&quot;public&quot;</td><td>&quot;project_cchain_disease_pidsr_t…</td></tr><tr><td>&quot;public&quot;</td><td>&quot;waqi_airquality_clean&quot;</td></tr><tr><td>&quot;public&quot;</td><td>&quot;waqi_airquality_raw&quot;</td></tr></tbody></table></div>"
      ],
      "text/plain": [
       "shape: (11, 2)\n",
       "┌──────────────┬─────────────────────────────────┐\n",
       "│ table_schema ┆ table_name                      │\n",
       "│ ---          ┆ ---                             │\n",
       "│ str          ┆ str                             │\n",
       "╞══════════════╪═════════════════════════════════╡\n",
       "│ public       ┆ climate_atmosphere_raw          │\n",
       "│ public       ┆ disease_pidsr_totals_raw        │\n",
       "│ public       ┆ location_raw                    │\n",
       "│ public       ┆ nasa_firms_clean                │\n",
       "│ public       ┆ nasa_firms_raw                  │\n",
       "│ …            ┆ …                               │\n",
       "│ public       ┆ project_cchain_climate_atmosph… │\n",
       "│ public       ┆ project_cchain_disease_pidsr_t… │\n",
       "│ public       ┆ project_cchain_disease_pidsr_t… │\n",
       "│ public       ┆ waqi_airquality_clean           │\n",
       "│ public       ┆ waqi_airquality_raw             │\n",
       "└──────────────┴─────────────────────────────────┘"
      ]
     },
     "execution_count": 3,
     "metadata": {},
     "output_type": "execute_result"
    }
   ],
   "source": [
    "# show all available schemas and tables\n",
    "conn.sql(\"\"\"\n",
    "    SELECT table_schema, table_name\n",
    "    FROM information_schema.tables\n",
    "    WHERE table_schema NOT IN ('information_schema', 'pg_catalog')\n",
    "    ORDER BY table_schema, table_name;\n",
    "\"\"\").pl()"
   ]
  },
  {
   "cell_type": "markdown",
   "id": "d216aa66-b55f-4693-88bc-ff66887ee6dc",
   "metadata": {
    "editable": true,
    "slideshow": {
     "slide_type": ""
    },
    "tags": []
   },
   "source": [
    "## NASA FIRMS"
   ]
  },
  {
   "cell_type": "code",
   "execution_count": 4,
   "id": "3916d368-ce5d-47a1-b6ea-06b4e52fe550",
   "metadata": {},
   "outputs": [
    {
     "data": {
      "text/html": [
       "<div><style>\n",
       ".dataframe > thead > tr,\n",
       ".dataframe > tbody > tr {\n",
       "  text-align: right;\n",
       "  white-space: pre-wrap;\n",
       "}\n",
       "</style>\n",
       "<small>shape: (80_220, 16)</small><table border=\"1\" class=\"dataframe\"><thead><tr><th>country_id</th><th>latitude</th><th>longitude</th><th>geometry</th><th>bright_ti4</th><th>scan</th><th>track</th><th>acq_datetime</th><th>satellite</th><th>instrument</th><th>confidence</th><th>version</th><th>bright_ti5</th><th>frp</th><th>daynight</th><th>measurement_date</th></tr><tr><td>str</td><td>f32</td><td>f32</td><td>str</td><td>f32</td><td>f32</td><td>f32</td><td>datetime[μs]</td><td>str</td><td>str</td><td>str</td><td>str</td><td>f32</td><td>f32</td><td>str</td><td>date</td></tr></thead><tbody><tr><td>&quot;THA&quot;</td><td>7.77023</td><td>99.19873</td><td>&quot;POINT (99.19873 7.77023)&quot;</td><td>334.279999</td><td>0.53</td><td>0.5</td><td>2025-02-01 06:16:00</td><td>&quot;N&quot;</td><td>&quot;VIIRS&quot;</td><td>&quot;n&quot;</td><td>&quot;2.0NRT&quot;</td><td>297.679993</td><td>3.27</td><td>&quot;D&quot;</td><td>2025-02-01</td></tr><tr><td>&quot;THA&quot;</td><td>7.78971</td><td>99.313652</td><td>&quot;POINT (99.31365 7.78971)&quot;</td><td>343.109985</td><td>0.52</td><td>0.5</td><td>2025-02-01 06:16:00</td><td>&quot;N&quot;</td><td>&quot;VIIRS&quot;</td><td>&quot;n&quot;</td><td>&quot;2.0NRT&quot;</td><td>300.5</td><td>10.58</td><td>&quot;D&quot;</td><td>2025-02-01</td></tr><tr><td>&quot;THA&quot;</td><td>9.15764</td><td>99.054543</td><td>&quot;POINT (99.05454 9.15764)&quot;</td><td>331.929993</td><td>0.51</td><td>0.5</td><td>2025-02-01 06:16:00</td><td>&quot;N&quot;</td><td>&quot;VIIRS&quot;</td><td>&quot;n&quot;</td><td>&quot;2.0NRT&quot;</td><td>297.540009</td><td>4.03</td><td>&quot;D&quot;</td><td>2025-02-01</td></tr><tr><td>&quot;THA&quot;</td><td>9.35155</td><td>98.980347</td><td>&quot;POINT (98.98035 9.35155)&quot;</td><td>328.570007</td><td>0.52</td><td>0.5</td><td>2025-02-01 06:16:00</td><td>&quot;N&quot;</td><td>&quot;VIIRS&quot;</td><td>&quot;n&quot;</td><td>&quot;2.0NRT&quot;</td><td>297.089996</td><td>3.33</td><td>&quot;D&quot;</td><td>2025-02-01</td></tr><tr><td>&quot;THA&quot;</td><td>12.5212</td><td>99.823509</td><td>&quot;POINT (99.82351 12.5212)&quot;</td><td>348.799988</td><td>0.41</td><td>0.45</td><td>2025-02-01 06:16:00</td><td>&quot;N&quot;</td><td>&quot;VIIRS&quot;</td><td>&quot;n&quot;</td><td>&quot;2.0NRT&quot;</td><td>297.950012</td><td>3.48</td><td>&quot;D&quot;</td><td>2025-02-01</td></tr><tr><td>&hellip;</td><td>&hellip;</td><td>&hellip;</td><td>&hellip;</td><td>&hellip;</td><td>&hellip;</td><td>&hellip;</td><td>&hellip;</td><td>&hellip;</td><td>&hellip;</td><td>&hellip;</td><td>&hellip;</td><td>&hellip;</td><td>&hellip;</td><td>&hellip;</td><td>&hellip;</td></tr><tr><td>&quot;THA&quot;</td><td>20.27833</td><td>99.601044</td><td>&quot;POINT (99.60104 20.27833)&quot;</td><td>331.040009</td><td>0.43</td><td>0.38</td><td>2025-05-12 06:44:00</td><td>&quot;N&quot;</td><td>&quot;VIIRS&quot;</td><td>&quot;n&quot;</td><td>&quot;2.0NRT&quot;</td><td>297.959991</td><td>2.06</td><td>&quot;D&quot;</td><td>2025-05-12</td></tr><tr><td>&quot;THA&quot;</td><td>20.35685</td><td>100.286072</td><td>&quot;POINT (100.28607 20.35685)&quot;</td><td>337.01001</td><td>0.46</td><td>0.39</td><td>2025-05-12 06:44:00</td><td>&quot;N&quot;</td><td>&quot;VIIRS&quot;</td><td>&quot;n&quot;</td><td>&quot;2.0NRT&quot;</td><td>296.850006</td><td>4.92</td><td>&quot;D&quot;</td><td>2025-05-12</td></tr><tr><td>&quot;THA&quot;</td><td>18.37686</td><td>100.972298</td><td>&quot;POINT (100.9723 18.37686)&quot;</td><td>303.399994</td><td>0.39</td><td>0.44</td><td>2025-05-12 19:13:00</td><td>&quot;N&quot;</td><td>&quot;VIIRS&quot;</td><td>&quot;n&quot;</td><td>&quot;2.0NRT&quot;</td><td>288.029999</td><td>0.19</td><td>&quot;N&quot;</td><td>2025-05-12</td></tr><tr><td>&quot;THA&quot;</td><td>18.7859</td><td>98.160294</td><td>&quot;POINT (98.16029 18.7859)&quot;</td><td>326.309998</td><td>0.42</td><td>0.38</td><td>2025-05-12 19:13:00</td><td>&quot;N&quot;</td><td>&quot;VIIRS&quot;</td><td>&quot;n&quot;</td><td>&quot;2.0NRT&quot;</td><td>282.869995</td><td>2.52</td><td>&quot;N&quot;</td><td>2025-05-12</td></tr><tr><td>&quot;THA&quot;</td><td>13.11322</td><td>100.911186</td><td>&quot;POINT (100.91119 13.11322)&quot;</td><td>306.170013</td><td>0.47</td><td>0.48</td><td>2025-05-12 19:15:00</td><td>&quot;N&quot;</td><td>&quot;VIIRS&quot;</td><td>&quot;n&quot;</td><td>&quot;2.0NRT&quot;</td><td>284.570007</td><td>2.01</td><td>&quot;N”.&quot;</td><td>2025-05-12</td></tr></tbody></table></div>"
      ],
      "text/plain": [
       "shape: (80_220, 16)\n",
       "┌────────────┬──────────┬────────────┬────────────┬───┬────────────┬───────┬──────────┬────────────┐\n",
       "│ country_id ┆ latitude ┆ longitude  ┆ geometry   ┆ … ┆ bright_ti5 ┆ frp   ┆ daynight ┆ measuremen │\n",
       "│ ---        ┆ ---      ┆ ---        ┆ ---        ┆   ┆ ---        ┆ ---   ┆ ---      ┆ t_date     │\n",
       "│ str        ┆ f32      ┆ f32        ┆ str        ┆   ┆ f32        ┆ f32   ┆ str      ┆ ---        │\n",
       "│            ┆          ┆            ┆            ┆   ┆            ┆       ┆          ┆ date       │\n",
       "╞════════════╪══════════╪════════════╪════════════╪═══╪════════════╪═══════╪══════════╪════════════╡\n",
       "│ THA        ┆ 7.77023  ┆ 99.19873   ┆ POINT      ┆ … ┆ 297.679993 ┆ 3.27  ┆ D        ┆ 2025-02-01 │\n",
       "│            ┆          ┆            ┆ (99.19873  ┆   ┆            ┆       ┆          ┆            │\n",
       "│            ┆          ┆            ┆ 7.77023)   ┆   ┆            ┆       ┆          ┆            │\n",
       "│ THA        ┆ 7.78971  ┆ 99.313652  ┆ POINT      ┆ … ┆ 300.5      ┆ 10.58 ┆ D        ┆ 2025-02-01 │\n",
       "│            ┆          ┆            ┆ (99.31365  ┆   ┆            ┆       ┆          ┆            │\n",
       "│            ┆          ┆            ┆ 7.78971)   ┆   ┆            ┆       ┆          ┆            │\n",
       "│ THA        ┆ 9.15764  ┆ 99.054543  ┆ POINT      ┆ … ┆ 297.540009 ┆ 4.03  ┆ D        ┆ 2025-02-01 │\n",
       "│            ┆          ┆            ┆ (99.05454  ┆   ┆            ┆       ┆          ┆            │\n",
       "│            ┆          ┆            ┆ 9.15764)   ┆   ┆            ┆       ┆          ┆            │\n",
       "│ THA        ┆ 9.35155  ┆ 98.980347  ┆ POINT      ┆ … ┆ 297.089996 ┆ 3.33  ┆ D        ┆ 2025-02-01 │\n",
       "│            ┆          ┆            ┆ (98.98035  ┆   ┆            ┆       ┆          ┆            │\n",
       "│            ┆          ┆            ┆ 9.35155)   ┆   ┆            ┆       ┆          ┆            │\n",
       "│ THA        ┆ 12.5212  ┆ 99.823509  ┆ POINT      ┆ … ┆ 297.950012 ┆ 3.48  ┆ D        ┆ 2025-02-01 │\n",
       "│            ┆          ┆            ┆ (99.82351  ┆   ┆            ┆       ┆          ┆            │\n",
       "│            ┆          ┆            ┆ 12.5212)   ┆   ┆            ┆       ┆          ┆            │\n",
       "│ …          ┆ …        ┆ …          ┆ …          ┆ … ┆ …          ┆ …     ┆ …        ┆ …          │\n",
       "│ THA        ┆ 20.27833 ┆ 99.601044  ┆ POINT      ┆ … ┆ 297.959991 ┆ 2.06  ┆ D        ┆ 2025-05-12 │\n",
       "│            ┆          ┆            ┆ (99.60104  ┆   ┆            ┆       ┆          ┆            │\n",
       "│            ┆          ┆            ┆ 20.27833)  ┆   ┆            ┆       ┆          ┆            │\n",
       "│ THA        ┆ 20.35685 ┆ 100.286072 ┆ POINT      ┆ … ┆ 296.850006 ┆ 4.92  ┆ D        ┆ 2025-05-12 │\n",
       "│            ┆          ┆            ┆ (100.28607 ┆   ┆            ┆       ┆          ┆            │\n",
       "│            ┆          ┆            ┆ 20.35685)  ┆   ┆            ┆       ┆          ┆            │\n",
       "│ THA        ┆ 18.37686 ┆ 100.972298 ┆ POINT      ┆ … ┆ 288.029999 ┆ 0.19  ┆ N        ┆ 2025-05-12 │\n",
       "│            ┆          ┆            ┆ (100.9723  ┆   ┆            ┆       ┆          ┆            │\n",
       "│            ┆          ┆            ┆ 18.37686)  ┆   ┆            ┆       ┆          ┆            │\n",
       "│ THA        ┆ 18.7859  ┆ 98.160294  ┆ POINT      ┆ … ┆ 282.869995 ┆ 2.52  ┆ N        ┆ 2025-05-12 │\n",
       "│            ┆          ┆            ┆ (98.16029  ┆   ┆            ┆       ┆          ┆            │\n",
       "│            ┆          ┆            ┆ 18.7859)   ┆   ┆            ┆       ┆          ┆            │\n",
       "│ THA        ┆ 13.11322 ┆ 100.911186 ┆ POINT      ┆ … ┆ 284.570007 ┆ 2.01  ┆ N”.      ┆ 2025-05-12 │\n",
       "│            ┆          ┆            ┆ (100.91119 ┆   ┆            ┆       ┆          ┆            │\n",
       "│            ┆          ┆            ┆ 13.11322)  ┆   ┆            ┆       ┆          ┆            │\n",
       "└────────────┴──────────┴────────────┴────────────┴───┴────────────┴───────┴──────────┴────────────┘"
      ]
     },
     "execution_count": 4,
     "metadata": {},
     "output_type": "execute_result"
    }
   ],
   "source": [
    "# sample query\n",
    "conn.sql(\"\"\"\n",
    "    SELECT *\n",
    "    FROM public.nasa_firms_clean\n",
    "    ORDER BY acq_datetime\n",
    "    \"\"\").pl()"
   ]
  },
  {
   "cell_type": "markdown",
   "id": "5fd2a2cc-46e7-45e4-814f-10547f1e6a38",
   "metadata": {
    "editable": true,
    "slideshow": {
     "slide_type": ""
    },
    "tags": []
   },
   "source": [
    "## WAQI Air Quality"
   ]
  },
  {
   "cell_type": "code",
   "execution_count": 6,
   "id": "8e6899b3-6782-42a4-a6cd-e789a05b1912",
   "metadata": {
    "editable": true,
    "slideshow": {
     "slide_type": ""
    },
    "tags": []
   },
   "outputs": [
    {
     "data": {
      "text/html": [
       "<div><style>\n",
       ".dataframe > thead > tr,\n",
       ".dataframe > tbody > tr {\n",
       "  text-align: right;\n",
       "  white-space: pre-wrap;\n",
       "}\n",
       "</style>\n",
       "<small>shape: (4_046, 7)</small><table border=\"1\" class=\"dataframe\"><thead><tr><th>date</th><th>pm25</th><th>pm10</th><th>o3</th><th>no2</th><th>so2</th><th>co</th></tr><tr><td>date</td><td>f32</td><td>f32</td><td>f32</td><td>f32</td><td>f32</td><td>f32</td></tr></thead><tbody><tr><td>2013-12-31</td><td>null</td><td>null</td><td>38.0</td><td>17.0</td><td>1.0</td><td>7.0</td></tr><tr><td>2014-01-01</td><td>null</td><td>56.0</td><td>43.0</td><td>20.0</td><td>3.0</td><td>9.0</td></tr><tr><td>2014-01-02</td><td>null</td><td>49.0</td><td>33.0</td><td>19.0</td><td>1.0</td><td>6.0</td></tr><tr><td>2014-01-03</td><td>null</td><td>49.0</td><td>34.0</td><td>15.0</td><td>1.0</td><td>5.0</td></tr><tr><td>2014-01-04</td><td>null</td><td>39.0</td><td>37.0</td><td>19.0</td><td>2.0</td><td>8.0</td></tr><tr><td>&hellip;</td><td>&hellip;</td><td>&hellip;</td><td>&hellip;</td><td>&hellip;</td><td>&hellip;</td><td>&hellip;</td></tr><tr><td>2025-04-20</td><td>72.0</td><td>null</td><td>null</td><td>null</td><td>null</td><td>null</td></tr><tr><td>2025-04-21</td><td>88.0</td><td>null</td><td>null</td><td>null</td><td>null</td><td>null</td></tr><tr><td>2025-04-22</td><td>97.0</td><td>null</td><td>null</td><td>null</td><td>null</td><td>null</td></tr><tr><td>2025-04-23</td><td>109.0</td><td>null</td><td>null</td><td>null</td><td>null</td><td>null</td></tr><tr><td>2025-04-24</td><td>128.0</td><td>null</td><td>null</td><td>null</td><td>null</td><td>null</td></tr></tbody></table></div>"
      ],
      "text/plain": [
       "shape: (4_046, 7)\n",
       "┌────────────┬───────┬──────┬──────┬──────┬──────┬──────┐\n",
       "│ date       ┆ pm25  ┆ pm10 ┆ o3   ┆ no2  ┆ so2  ┆ co   │\n",
       "│ ---        ┆ ---   ┆ ---  ┆ ---  ┆ ---  ┆ ---  ┆ ---  │\n",
       "│ date       ┆ f32   ┆ f32  ┆ f32  ┆ f32  ┆ f32  ┆ f32  │\n",
       "╞════════════╪═══════╪══════╪══════╪══════╪══════╪══════╡\n",
       "│ 2013-12-31 ┆ null  ┆ null ┆ 38.0 ┆ 17.0 ┆ 1.0  ┆ 7.0  │\n",
       "│ 2014-01-01 ┆ null  ┆ 56.0 ┆ 43.0 ┆ 20.0 ┆ 3.0  ┆ 9.0  │\n",
       "│ 2014-01-02 ┆ null  ┆ 49.0 ┆ 33.0 ┆ 19.0 ┆ 1.0  ┆ 6.0  │\n",
       "│ 2014-01-03 ┆ null  ┆ 49.0 ┆ 34.0 ┆ 15.0 ┆ 1.0  ┆ 5.0  │\n",
       "│ 2014-01-04 ┆ null  ┆ 39.0 ┆ 37.0 ┆ 19.0 ┆ 2.0  ┆ 8.0  │\n",
       "│ …          ┆ …     ┆ …    ┆ …    ┆ …    ┆ …    ┆ …    │\n",
       "│ 2025-04-20 ┆ 72.0  ┆ null ┆ null ┆ null ┆ null ┆ null │\n",
       "│ 2025-04-21 ┆ 88.0  ┆ null ┆ null ┆ null ┆ null ┆ null │\n",
       "│ 2025-04-22 ┆ 97.0  ┆ null ┆ null ┆ null ┆ null ┆ null │\n",
       "│ 2025-04-23 ┆ 109.0 ┆ null ┆ null ┆ null ┆ null ┆ null │\n",
       "│ 2025-04-24 ┆ 128.0 ┆ null ┆ null ┆ null ┆ null ┆ null │\n",
       "└────────────┴───────┴──────┴──────┴──────┴──────┴──────┘"
      ]
     },
     "execution_count": 6,
     "metadata": {},
     "output_type": "execute_result"
    }
   ],
   "source": [
    "# sample query\n",
    "conn.sql(\"\"\"\n",
    "    SELECT *\n",
    "    FROM public.waqi_airquality_clean\n",
    "    ORDER BY date;\n",
    "    \"\"\").pl()"
   ]
  },
  {
   "cell_type": "markdown",
   "id": "23ff7012-0cc5-4f6f-8de4-82955f668aee",
   "metadata": {
    "editable": true,
    "slideshow": {
     "slide_type": ""
    },
    "tags": []
   },
   "source": [
    "## Project CCHAIN"
   ]
  },
  {
   "cell_type": "code",
   "execution_count": 8,
   "id": "c33e875f-fc23-4b0d-90e9-bab1e3384499",
   "metadata": {
    "editable": true,
    "slideshow": {
     "slide_type": ""
    },
    "tags": []
   },
   "outputs": [
    {
     "data": {
      "application/vnd.jupyter.widget-view+json": {
       "model_id": "c2bdc820ba8c48a8ba6f4416f962035b",
       "version_major": 2,
       "version_minor": 0
      },
      "text/plain": [
       "FloatProgress(value=0.0, layout=Layout(width='auto'), style=ProgressStyle(bar_color='black'))"
      ]
     },
     "metadata": {},
     "output_type": "display_data"
    },
    {
     "data": {
      "text/html": [
       "<div><style>\n",
       ".dataframe > thead > tr,\n",
       ".dataframe > tbody > tr {\n",
       "  text-align: right;\n",
       "  white-space: pre-wrap;\n",
       "}\n",
       "</style>\n",
       "<small>shape: (50, 19)</small><table border=\"1\" class=\"dataframe\"><thead><tr><th>uuid</th><th>date</th><th>adm1_en</th><th>adm1_pcode</th><th>adm2_en</th><th>adm2_pcode</th><th>adm3_en</th><th>adm3_pcode</th><th>adm4_en</th><th>adm4_pcode</th><th>tave</th><th>tmin</th><th>tmax</th><th>heat_index</th><th>pr</th><th>wind_speed</th><th>rh</th><th>solar_rad</th><th>uv_rad</th></tr><tr><td>str</td><td>date</td><td>str</td><td>str</td><td>str</td><td>str</td><td>str</td><td>str</td><td>str</td><td>str</td><td>f32</td><td>f32</td><td>f32</td><td>f32</td><td>f32</td><td>f32</td><td>f32</td><td>f32</td><td>f32</td></tr></thead><tbody><tr><td>&quot;CATMS039120&quot;</td><td>2003-01-01</td><td>&quot;Region III&quot;</td><td>&quot;PH030000000&quot;</td><td>&quot;Nueva Ecija&quot;</td><td>&quot;PH034900000&quot;</td><td>&quot;Palayan City&quot;</td><td>&quot;PH034919000&quot;</td><td>&quot;Bo. Militar (Fort Magsaysay)&quot;</td><td>&quot;PH034919003&quot;</td><td>24.74</td><td>21.27</td><td>29.01</td><td>25.51</td><td>0.0</td><td>3.13</td><td>73.669998</td><td>203.029999</td><td>24.450001</td></tr><tr><td>&quot;CATMS01E519&quot;</td><td>2003-01-01</td><td>&quot;Region I&quot;</td><td>&quot;PH010000000&quot;</td><td>&quot;Pangasinan&quot;</td><td>&quot;PH015500000&quot;</td><td>&quot;Dagupan City&quot;</td><td>&quot;PH015518000&quot;</td><td>&quot;Mamalingling&quot;</td><td>&quot;PH015518019&quot;</td><td>26.85</td><td>24.49</td><td>30.17</td><td>27.91</td><td>0.0</td><td>2.0</td><td>68.589996</td><td>193.619995</td><td>23.77</td></tr><tr><td>&quot;CATMS021E2B&quot;</td><td>2003-01-01</td><td>&quot;Region I&quot;</td><td>&quot;PH010000000&quot;</td><td>&quot;Pangasinan&quot;</td><td>&quot;PH015500000&quot;</td><td>&quot;Dagupan City&quot;</td><td>&quot;PH015518000&quot;</td><td>&quot;Mayombo&quot;</td><td>&quot;PH015518021&quot;</td><td>26.85</td><td>24.49</td><td>30.17</td><td>27.91</td><td>0.0</td><td>2.0</td><td>68.589996</td><td>193.619995</td><td>23.77</td></tr><tr><td>&quot;CATMS0458DF&quot;</td><td>2003-01-01</td><td>&quot;Region III&quot;</td><td>&quot;PH030000000&quot;</td><td>&quot;Nueva Ecija&quot;</td><td>&quot;PH034900000&quot;</td><td>&quot;Palayan City&quot;</td><td>&quot;PH034919000&quot;</td><td>&quot;Sapang Buho&quot;</td><td>&quot;PH034919011&quot;</td><td>24.74</td><td>21.27</td><td>29.01</td><td>25.51</td><td>0.0</td><td>3.13</td><td>73.669998</td><td>203.029999</td><td>24.450001</td></tr><tr><td>&quot;CATMS00C7BF&quot;</td><td>2003-01-01</td><td>&quot;Region I&quot;</td><td>&quot;PH010000000&quot;</td><td>&quot;Pangasinan&quot;</td><td>&quot;PH015500000&quot;</td><td>&quot;Dagupan City&quot;</td><td>&quot;PH015518000&quot;</td><td>&quot;Bonuan Gueset&quot;</td><td>&quot;PH015518009&quot;</td><td>26.85</td><td>24.49</td><td>30.17</td><td>27.91</td><td>0.0</td><td>2.0</td><td>68.589996</td><td>193.619995</td><td>23.77</td></tr><tr><td>&hellip;</td><td>&hellip;</td><td>&hellip;</td><td>&hellip;</td><td>&hellip;</td><td>&hellip;</td><td>&hellip;</td><td>&hellip;</td><td>&hellip;</td><td>&hellip;</td><td>&hellip;</td><td>&hellip;</td><td>&hellip;</td><td>&hellip;</td><td>&hellip;</td><td>&hellip;</td><td>&hellip;</td><td>&hellip;</td><td>&hellip;</td></tr><tr><td>&quot;CATMS0559B0&quot;</td><td>2003-01-01</td><td>&quot;Region III&quot;</td><td>&quot;PH030000000&quot;</td><td>&quot;Nueva Ecija&quot;</td><td>&quot;PH034900000&quot;</td><td>&quot;Palayan City&quot;</td><td>&quot;PH034919000&quot;</td><td>&quot;Popolon Pagas&quot;</td><td>&quot;PH034919021&quot;</td><td>25.66</td><td>21.459999</td><td>30.74</td><td>26.540001</td><td>0.0</td><td>2.81</td><td>70.870003</td><td>209.25</td><td>25.129999</td></tr><tr><td>&quot;CATMS01C890&quot;</td><td>2003-01-01</td><td>&quot;Region I&quot;</td><td>&quot;PH010000000&quot;</td><td>&quot;Pangasinan&quot;</td><td>&quot;PH015500000&quot;</td><td>&quot;Dagupan City&quot;</td><td>&quot;PH015518000&quot;</td><td>&quot;Malued&quot;</td><td>&quot;PH015518018&quot;</td><td>26.85</td><td>24.49</td><td>30.17</td><td>27.91</td><td>0.0</td><td>2.0</td><td>68.589996</td><td>193.619995</td><td>23.77</td></tr><tr><td>&quot;CATMS00AB36&quot;</td><td>2003-01-01</td><td>&quot;Region I&quot;</td><td>&quot;PH010000000&quot;</td><td>&quot;Pangasinan&quot;</td><td>&quot;PH015500000&quot;</td><td>&quot;Dagupan City&quot;</td><td>&quot;PH015518000&quot;</td><td>&quot;Bonuan Boquig&quot;</td><td>&quot;PH015518008&quot;</td><td>26.85</td><td>24.49</td><td>30.17</td><td>27.91</td><td>0.0</td><td>2.0</td><td>68.589996</td><td>193.619995</td><td>23.77</td></tr><tr><td>&quot;CATMS003912&quot;</td><td>2003-01-01</td><td>&quot;Region I&quot;</td><td>&quot;PH010000000&quot;</td><td>&quot;Pangasinan&quot;</td><td>&quot;PH015500000&quot;</td><td>&quot;Dagupan City&quot;</td><td>&quot;PH015518000&quot;</td><td>&quot;Barangay II (Nueva)&quot;</td><td>&quot;PH015518003&quot;</td><td>26.85</td><td>24.49</td><td>30.17</td><td>27.91</td><td>0.0</td><td>2.0</td><td>68.589996</td><td>193.619995</td><td>23.77</td></tr><tr><td>&quot;CATMS000000&quot;</td><td>2003-01-01</td><td>&quot;Region I&quot;</td><td>&quot;PH010000000&quot;</td><td>&quot;Pangasinan&quot;</td><td>&quot;PH015500000&quot;</td><td>&quot;Dagupan City&quot;</td><td>&quot;PH015518000&quot;</td><td>&quot;Bacayao Norte&quot;</td><td>&quot;PH015518001&quot;</td><td>26.85</td><td>24.49</td><td>30.17</td><td>27.91</td><td>0.0</td><td>2.0</td><td>68.589996</td><td>193.619995</td><td>23.77</td></tr></tbody></table></div>"
      ],
      "text/plain": [
       "shape: (50, 19)\n",
       "┌───────────┬───────────┬───────────┬───────────┬───┬───────────┬───────────┬───────────┬──────────┐\n",
       "│ uuid      ┆ date      ┆ adm1_en   ┆ adm1_pcod ┆ … ┆ wind_spee ┆ rh        ┆ solar_rad ┆ uv_rad   │\n",
       "│ ---       ┆ ---       ┆ ---       ┆ e         ┆   ┆ d         ┆ ---       ┆ ---       ┆ ---      │\n",
       "│ str       ┆ date      ┆ str       ┆ ---       ┆   ┆ ---       ┆ f32       ┆ f32       ┆ f32      │\n",
       "│           ┆           ┆           ┆ str       ┆   ┆ f32       ┆           ┆           ┆          │\n",
       "╞═══════════╪═══════════╪═══════════╪═══════════╪═══╪═══════════╪═══════════╪═══════════╪══════════╡\n",
       "│ CATMS0391 ┆ 2003-01-0 ┆ Region    ┆ PH0300000 ┆ … ┆ 3.13      ┆ 73.669998 ┆ 203.02999 ┆ 24.45000 │\n",
       "│ 20        ┆ 1         ┆ III       ┆ 00        ┆   ┆           ┆           ┆ 9         ┆ 1        │\n",
       "│ CATMS01E5 ┆ 2003-01-0 ┆ Region I  ┆ PH0100000 ┆ … ┆ 2.0       ┆ 68.589996 ┆ 193.61999 ┆ 23.77    │\n",
       "│ 19        ┆ 1         ┆           ┆ 00        ┆   ┆           ┆           ┆ 5         ┆          │\n",
       "│ CATMS021E ┆ 2003-01-0 ┆ Region I  ┆ PH0100000 ┆ … ┆ 2.0       ┆ 68.589996 ┆ 193.61999 ┆ 23.77    │\n",
       "│ 2B        ┆ 1         ┆           ┆ 00        ┆   ┆           ┆           ┆ 5         ┆          │\n",
       "│ CATMS0458 ┆ 2003-01-0 ┆ Region    ┆ PH0300000 ┆ … ┆ 3.13      ┆ 73.669998 ┆ 203.02999 ┆ 24.45000 │\n",
       "│ DF        ┆ 1         ┆ III       ┆ 00        ┆   ┆           ┆           ┆ 9         ┆ 1        │\n",
       "│ CATMS00C7 ┆ 2003-01-0 ┆ Region I  ┆ PH0100000 ┆ … ┆ 2.0       ┆ 68.589996 ┆ 193.61999 ┆ 23.77    │\n",
       "│ BF        ┆ 1         ┆           ┆ 00        ┆   ┆           ┆           ┆ 5         ┆          │\n",
       "│ …         ┆ …         ┆ …         ┆ …         ┆ … ┆ …         ┆ …         ┆ …         ┆ …        │\n",
       "│ CATMS0559 ┆ 2003-01-0 ┆ Region    ┆ PH0300000 ┆ … ┆ 2.81      ┆ 70.870003 ┆ 209.25    ┆ 25.12999 │\n",
       "│ B0        ┆ 1         ┆ III       ┆ 00        ┆   ┆           ┆           ┆           ┆ 9        │\n",
       "│ CATMS01C8 ┆ 2003-01-0 ┆ Region I  ┆ PH0100000 ┆ … ┆ 2.0       ┆ 68.589996 ┆ 193.61999 ┆ 23.77    │\n",
       "│ 90        ┆ 1         ┆           ┆ 00        ┆   ┆           ┆           ┆ 5         ┆          │\n",
       "│ CATMS00AB ┆ 2003-01-0 ┆ Region I  ┆ PH0100000 ┆ … ┆ 2.0       ┆ 68.589996 ┆ 193.61999 ┆ 23.77    │\n",
       "│ 36        ┆ 1         ┆           ┆ 00        ┆   ┆           ┆           ┆ 5         ┆          │\n",
       "│ CATMS0039 ┆ 2003-01-0 ┆ Region I  ┆ PH0100000 ┆ … ┆ 2.0       ┆ 68.589996 ┆ 193.61999 ┆ 23.77    │\n",
       "│ 12        ┆ 1         ┆           ┆ 00        ┆   ┆           ┆           ┆ 5         ┆          │\n",
       "│ CATMS0000 ┆ 2003-01-0 ┆ Region I  ┆ PH0100000 ┆ … ┆ 2.0       ┆ 68.589996 ┆ 193.61999 ┆ 23.77    │\n",
       "│ 00        ┆ 1         ┆           ┆ 00        ┆   ┆           ┆           ┆ 5         ┆          │\n",
       "└───────────┴───────────┴───────────┴───────────┴───┴───────────┴───────────┴───────────┴──────────┘"
      ]
     },
     "execution_count": 8,
     "metadata": {},
     "output_type": "execute_result"
    }
   ],
   "source": [
    "# sample query\n",
    "conn.sql(\"\"\"\n",
    "    SELECT *\n",
    "    FROM public.project_cchain_climate_atmosphere_clean\n",
    "    ORDER BY date\n",
    "    LIMIT 50;\n",
    "    \"\"\").pl()"
   ]
  },
  {
   "cell_type": "code",
   "execution_count": 7,
   "id": "6f42e212-bfb4-499e-8b50-6f6152d6c50b",
   "metadata": {},
   "outputs": [
    {
     "data": {
      "application/vnd.jupyter.widget-view+json": {
       "model_id": "9cb7e2f92ac24b16bc412b93717280b5",
       "version_major": 2,
       "version_minor": 0
      },
      "text/plain": [
       "FloatProgress(value=0.0, layout=Layout(width='auto'), style=ProgressStyle(bar_color='black'))"
      ]
     },
     "metadata": {},
     "output_type": "display_data"
    },
    {
     "data": {
      "text/html": [
       "<div><style>\n",
       ".dataframe > thead > tr,\n",
       ".dataframe > tbody > tr {\n",
       "  text-align: right;\n",
       "  white-space: pre-wrap;\n",
       "}\n",
       "</style>\n",
       "<small>shape: (50, 11)</small><table border=\"1\" class=\"dataframe\"><thead><tr><th>uuid</th><th>date</th><th>adm1_en</th><th>adm1_pcode</th><th>adm2_en</th><th>adm2_pcode</th><th>adm3_en</th><th>adm3_pcode</th><th>disease_icd10_code</th><th>disease_common_name</th><th>case_total</th></tr><tr><td>str</td><td>date</td><td>str</td><td>str</td><td>str</td><td>str</td><td>str</td><td>str</td><td>str</td><td>str</td><td>i32</td></tr></thead><tbody><tr><td>&quot;DPSRT006DB0&quot;</td><td>2008-01-07</td><td>&quot;Region I&quot;</td><td>&quot;PH010000000&quot;</td><td>&quot;Pangasinan&quot;</td><td>&quot;PH015500000&quot;</td><td>&quot;Dagupan City&quot;</td><td>&quot;PH015518000&quot;</td><td>&quot;A90-A91&quot;</td><td>&quot;DENGUE FEVER&quot;</td><td>9</td></tr><tr><td>&quot;DPSRT006DB0&quot;</td><td>2008-01-07</td><td>&quot;Region I&quot;</td><td>&quot;PH010000000&quot;</td><td>&quot;Pangasinan&quot;</td><td>&quot;PH015500000&quot;</td><td>&quot;Dagupan City&quot;</td><td>&quot;PH015518000&quot;</td><td>&quot;A90-A91&quot;</td><td>&quot;DENGUE FEVER&quot;</td><td>9</td></tr><tr><td>&quot;DPSRT006DB0&quot;</td><td>2008-01-07</td><td>&quot;Region I&quot;</td><td>&quot;PH010000000&quot;</td><td>&quot;Pangasinan&quot;</td><td>&quot;PH015500000&quot;</td><td>&quot;Dagupan City&quot;</td><td>&quot;PH015518000&quot;</td><td>&quot;A90-A91&quot;</td><td>&quot;DENGUE FEVER&quot;</td><td>9</td></tr><tr><td>&quot;DPSRT006DB0&quot;</td><td>2008-01-07</td><td>&quot;Region I&quot;</td><td>&quot;PH010000000&quot;</td><td>&quot;Pangasinan&quot;</td><td>&quot;PH015500000&quot;</td><td>&quot;Dagupan City&quot;</td><td>&quot;PH015518000&quot;</td><td>&quot;A90-A91&quot;</td><td>&quot;DENGUE FEVER&quot;</td><td>9</td></tr><tr><td>&quot;DPSRT006DB0&quot;</td><td>2008-01-07</td><td>&quot;Region I&quot;</td><td>&quot;PH010000000&quot;</td><td>&quot;Pangasinan&quot;</td><td>&quot;PH015500000&quot;</td><td>&quot;Dagupan City&quot;</td><td>&quot;PH015518000&quot;</td><td>&quot;A90-A91&quot;</td><td>&quot;DENGUE FEVER&quot;</td><td>9</td></tr><tr><td>&hellip;</td><td>&hellip;</td><td>&hellip;</td><td>&hellip;</td><td>&hellip;</td><td>&hellip;</td><td>&hellip;</td><td>&hellip;</td><td>&hellip;</td><td>&hellip;</td><td>&hellip;</td></tr><tr><td>&quot;DPSRT006DB0&quot;</td><td>2008-01-07</td><td>&quot;Region I&quot;</td><td>&quot;PH010000000&quot;</td><td>&quot;Pangasinan&quot;</td><td>&quot;PH015500000&quot;</td><td>&quot;Dagupan City&quot;</td><td>&quot;PH015518000&quot;</td><td>&quot;A90-A91&quot;</td><td>&quot;DENGUE FEVER&quot;</td><td>9</td></tr><tr><td>&quot;DPSRT006DB0&quot;</td><td>2008-01-07</td><td>&quot;Region I&quot;</td><td>&quot;PH010000000&quot;</td><td>&quot;Pangasinan&quot;</td><td>&quot;PH015500000&quot;</td><td>&quot;Dagupan City&quot;</td><td>&quot;PH015518000&quot;</td><td>&quot;A90-A91&quot;</td><td>&quot;DENGUE FEVER&quot;</td><td>9</td></tr><tr><td>&quot;DPSRT006DB0&quot;</td><td>2008-01-07</td><td>&quot;Region I&quot;</td><td>&quot;PH010000000&quot;</td><td>&quot;Pangasinan&quot;</td><td>&quot;PH015500000&quot;</td><td>&quot;Dagupan City&quot;</td><td>&quot;PH015518000&quot;</td><td>&quot;A90-A91&quot;</td><td>&quot;DENGUE FEVER&quot;</td><td>9</td></tr><tr><td>&quot;DPSRT006DB0&quot;</td><td>2008-01-07</td><td>&quot;Region I&quot;</td><td>&quot;PH010000000&quot;</td><td>&quot;Pangasinan&quot;</td><td>&quot;PH015500000&quot;</td><td>&quot;Dagupan City&quot;</td><td>&quot;PH015518000&quot;</td><td>&quot;A90-A91&quot;</td><td>&quot;DENGUE FEVER&quot;</td><td>9</td></tr><tr><td>&quot;DPSRT006DB0&quot;</td><td>2008-01-07</td><td>&quot;Region I&quot;</td><td>&quot;PH010000000&quot;</td><td>&quot;Pangasinan&quot;</td><td>&quot;PH015500000&quot;</td><td>&quot;Dagupan City&quot;</td><td>&quot;PH015518000&quot;</td><td>&quot;A90-A91&quot;</td><td>&quot;DENGUE FEVER&quot;</td><td>9</td></tr></tbody></table></div>"
      ],
      "text/plain": [
       "shape: (50, 11)\n",
       "┌───────────┬───────────┬──────────┬───────────┬───┬───────────┬───────────┬───────────┬───────────┐\n",
       "│ uuid      ┆ date      ┆ adm1_en  ┆ adm1_pcod ┆ … ┆ adm3_pcod ┆ disease_i ┆ disease_c ┆ case_tota │\n",
       "│ ---       ┆ ---       ┆ ---      ┆ e         ┆   ┆ e         ┆ cd10_code ┆ ommon_nam ┆ l         │\n",
       "│ str       ┆ date      ┆ str      ┆ ---       ┆   ┆ ---       ┆ ---       ┆ e         ┆ ---       │\n",
       "│           ┆           ┆          ┆ str       ┆   ┆ str       ┆ str       ┆ ---       ┆ i32       │\n",
       "│           ┆           ┆          ┆           ┆   ┆           ┆           ┆ str       ┆           │\n",
       "╞═══════════╪═══════════╪══════════╪═══════════╪═══╪═══════════╪═══════════╪═══════════╪═══════════╡\n",
       "│ DPSRT006D ┆ 2008-01-0 ┆ Region I ┆ PH0100000 ┆ … ┆ PH0155180 ┆ A90-A91   ┆ DENGUE    ┆ 9         │\n",
       "│ B0        ┆ 7         ┆          ┆ 00        ┆   ┆ 00        ┆           ┆ FEVER     ┆           │\n",
       "│ DPSRT006D ┆ 2008-01-0 ┆ Region I ┆ PH0100000 ┆ … ┆ PH0155180 ┆ A90-A91   ┆ DENGUE    ┆ 9         │\n",
       "│ B0        ┆ 7         ┆          ┆ 00        ┆   ┆ 00        ┆           ┆ FEVER     ┆           │\n",
       "│ DPSRT006D ┆ 2008-01-0 ┆ Region I ┆ PH0100000 ┆ … ┆ PH0155180 ┆ A90-A91   ┆ DENGUE    ┆ 9         │\n",
       "│ B0        ┆ 7         ┆          ┆ 00        ┆   ┆ 00        ┆           ┆ FEVER     ┆           │\n",
       "│ DPSRT006D ┆ 2008-01-0 ┆ Region I ┆ PH0100000 ┆ … ┆ PH0155180 ┆ A90-A91   ┆ DENGUE    ┆ 9         │\n",
       "│ B0        ┆ 7         ┆          ┆ 00        ┆   ┆ 00        ┆           ┆ FEVER     ┆           │\n",
       "│ DPSRT006D ┆ 2008-01-0 ┆ Region I ┆ PH0100000 ┆ … ┆ PH0155180 ┆ A90-A91   ┆ DENGUE    ┆ 9         │\n",
       "│ B0        ┆ 7         ┆          ┆ 00        ┆   ┆ 00        ┆           ┆ FEVER     ┆           │\n",
       "│ …         ┆ …         ┆ …        ┆ …         ┆ … ┆ …         ┆ …         ┆ …         ┆ …         │\n",
       "│ DPSRT006D ┆ 2008-01-0 ┆ Region I ┆ PH0100000 ┆ … ┆ PH0155180 ┆ A90-A91   ┆ DENGUE    ┆ 9         │\n",
       "│ B0        ┆ 7         ┆          ┆ 00        ┆   ┆ 00        ┆           ┆ FEVER     ┆           │\n",
       "│ DPSRT006D ┆ 2008-01-0 ┆ Region I ┆ PH0100000 ┆ … ┆ PH0155180 ┆ A90-A91   ┆ DENGUE    ┆ 9         │\n",
       "│ B0        ┆ 7         ┆          ┆ 00        ┆   ┆ 00        ┆           ┆ FEVER     ┆           │\n",
       "│ DPSRT006D ┆ 2008-01-0 ┆ Region I ┆ PH0100000 ┆ … ┆ PH0155180 ┆ A90-A91   ┆ DENGUE    ┆ 9         │\n",
       "│ B0        ┆ 7         ┆          ┆ 00        ┆   ┆ 00        ┆           ┆ FEVER     ┆           │\n",
       "│ DPSRT006D ┆ 2008-01-0 ┆ Region I ┆ PH0100000 ┆ … ┆ PH0155180 ┆ A90-A91   ┆ DENGUE    ┆ 9         │\n",
       "│ B0        ┆ 7         ┆          ┆ 00        ┆   ┆ 00        ┆           ┆ FEVER     ┆           │\n",
       "│ DPSRT006D ┆ 2008-01-0 ┆ Region I ┆ PH0100000 ┆ … ┆ PH0155180 ┆ A90-A91   ┆ DENGUE    ┆ 9         │\n",
       "│ B0        ┆ 7         ┆          ┆ 00        ┆   ┆ 00        ┆           ┆ FEVER     ┆           │\n",
       "└───────────┴───────────┴──────────┴───────────┴───┴───────────┴───────────┴───────────┴───────────┘"
      ]
     },
     "execution_count": 7,
     "metadata": {},
     "output_type": "execute_result"
    }
   ],
   "source": [
    "# sample query\n",
    "conn.sql(\"\"\"\n",
    "    SELECT *\n",
    "    FROM public.project_cchain_disease_pidsr_totals_clean\n",
    "    WHERE case_total != 0\n",
    "    ORDER BY date\n",
    "    LIMIT 50;\n",
    "    \"\"\").pl()"
   ]
  }
 ],
 "metadata": {
  "kernelspec": {
   "display_name": "Python 3 (ipykernel)",
   "language": "python",
   "name": "python3"
  },
  "language_info": {
   "codemirror_mode": {
    "name": "ipython",
    "version": 3
   },
   "file_extension": ".py",
   "mimetype": "text/x-python",
   "name": "python",
   "nbconvert_exporter": "python",
   "pygments_lexer": "ipython3",
   "version": "3.12.10"
  }
 },
 "nbformat": 4,
 "nbformat_minor": 5
}
