{
 "cells": [
  {
   "cell_type": "markdown",
   "id": "01d3388d-cdaa-49f8-98bb-316ca2a86994",
   "metadata": {
    "editable": true,
    "slideshow": {
     "slide_type": ""
    },
    "tags": []
   },
   "source": [
    "# Experimental Notebook\n",
    "This notebook serves as a dump for experimentation for tables in DuckDB. "
   ]
  },
  {
   "cell_type": "markdown",
   "id": "aea98b86-e888-4b5a-b0be-727737b78760",
   "metadata": {
    "editable": true,
    "slideshow": {
     "slide_type": ""
    },
    "tags": []
   },
   "source": [
    "## Import packages"
   ]
  },
  {
   "cell_type": "code",
   "execution_count": 1,
   "id": "4987345d-1627-417e-9d66-e1fc58efc45e",
   "metadata": {},
   "outputs": [],
   "source": [
    "# install packages and establish database connections\n",
    "import duckdb\n",
    "import geopandas as gpd\n",
    "from shapely import wkt\n",
    "\n",
    "conn = duckdb.connect(\"../data/lake/database.duckdb\")"
   ]
  },
  {
   "cell_type": "markdown",
   "id": "5a7f08d7-2796-49f8-9f78-536cc2927d31",
   "metadata": {
    "editable": true,
    "slideshow": {
     "slide_type": ""
    },
    "tags": []
   },
   "source": [
    "## List available tables"
   ]
  },
  {
   "cell_type": "code",
   "execution_count": 4,
   "id": "3491772b-a964-4663-9240-e901d8bf0736",
   "metadata": {
    "editable": true,
    "slideshow": {
     "slide_type": ""
    },
    "tags": []
   },
   "outputs": [
    {
     "data": {
      "text/html": [
       "<div><style>\n",
       ".dataframe > thead > tr,\n",
       ".dataframe > tbody > tr {\n",
       "  text-align: right;\n",
       "  white-space: pre-wrap;\n",
       "}\n",
       "</style>\n",
       "<small>shape: (9, 2)</small><table border=\"1\" class=\"dataframe\"><thead><tr><th>table_schema</th><th>table_name</th></tr><tr><td>str</td><td>str</td></tr></thead><tbody><tr><td>&quot;public&quot;</td><td>&quot;climate_atmosphere_raw&quot;</td></tr><tr><td>&quot;public&quot;</td><td>&quot;disease_pidsr_totals_raw&quot;</td></tr><tr><td>&quot;public&quot;</td><td>&quot;location_raw&quot;</td></tr><tr><td>&quot;public&quot;</td><td>&quot;nasa_firms_raw&quot;</td></tr><tr><td>&quot;public&quot;</td><td>&quot;project_cchain_climate_atmosph…</td></tr><tr><td>&quot;public&quot;</td><td>&quot;project_cchain_climate_atmosph…</td></tr><tr><td>&quot;public&quot;</td><td>&quot;project_cchain_disease_pidsr_t…</td></tr><tr><td>&quot;public&quot;</td><td>&quot;project_cchain_disease_pidsr_t…</td></tr><tr><td>&quot;public&quot;</td><td>&quot;waqi_airquality_raw&quot;</td></tr></tbody></table></div>"
      ],
      "text/plain": [
       "shape: (9, 2)\n",
       "┌──────────────┬─────────────────────────────────┐\n",
       "│ table_schema ┆ table_name                      │\n",
       "│ ---          ┆ ---                             │\n",
       "│ str          ┆ str                             │\n",
       "╞══════════════╪═════════════════════════════════╡\n",
       "│ public       ┆ climate_atmosphere_raw          │\n",
       "│ public       ┆ disease_pidsr_totals_raw        │\n",
       "│ public       ┆ location_raw                    │\n",
       "│ public       ┆ nasa_firms_raw                  │\n",
       "│ public       ┆ project_cchain_climate_atmosph… │\n",
       "│ public       ┆ project_cchain_climate_atmosph… │\n",
       "│ public       ┆ project_cchain_disease_pidsr_t… │\n",
       "│ public       ┆ project_cchain_disease_pidsr_t… │\n",
       "│ public       ┆ waqi_airquality_raw             │\n",
       "└──────────────┴─────────────────────────────────┘"
      ]
     },
     "execution_count": 4,
     "metadata": {},
     "output_type": "execute_result"
    }
   ],
   "source": [
    "# show all available schemas and tables\n",
    "conn.sql(\"\"\"\n",
    "    SELECT table_schema, table_name\n",
    "    FROM information_schema.tables\n",
    "    WHERE table_schema NOT IN ('information_schema', 'pg_catalog')\n",
    "    ORDER BY table_schema, table_name;\n",
    "\"\"\").pl()"
   ]
  },
  {
   "cell_type": "markdown",
   "id": "d216aa66-b55f-4693-88bc-ff66887ee6dc",
   "metadata": {
    "editable": true,
    "slideshow": {
     "slide_type": ""
    },
    "tags": []
   },
   "source": [
    "## NASA FIRMS"
   ]
  },
  {
   "cell_type": "code",
   "execution_count": 38,
   "id": "3916d368-ce5d-47a1-b6ea-06b4e52fe550",
   "metadata": {},
   "outputs": [
    {
     "data": {
      "text/html": [
       "<div><style>\n",
       ".dataframe > thead > tr,\n",
       ".dataframe > tbody > tr {\n",
       "  text-align: right;\n",
       "  white-space: pre-wrap;\n",
       "}\n",
       "</style>\n",
       "<small>shape: (77_812, 16)</small><table border=\"1\" class=\"dataframe\"><thead><tr><th>____S______X_S__country_id</th><th>latitude</th><th>longitude</th><th>bright_ti4</th><th>scan</th><th>track</th><th>acq_date</th><th>acq_time</th><th>satellite</th><th>instrument</th><th>confidence</th><th>version</th><th>bright_ti5</th><th>frp</th><th>daynight</th><th>measurement_date</th></tr><tr><td>str</td><td>str</td><td>str</td><td>str</td><td>str</td><td>str</td><td>str</td><td>str</td><td>str</td><td>str</td><td>str</td><td>str</td><td>str</td><td>str</td><td>str</td><td>date</td></tr></thead><tbody><tr><td>&quot;THA&quot;</td><td>&quot;18.84668&quot;</td><td>&quot;100.32352&quot;</td><td>&quot;309.01&quot;</td><td>&quot;0.41&quot;</td><td>&quot;0.37&quot;</td><td>&quot;2025-02-01&quot;</td><td>&quot;1847&quot;</td><td>&quot;N&quot;</td><td>&quot;VIIRS&quot;</td><td>&quot;n&quot;</td><td>&quot;2.0NRT&quot;</td><td>&quot;290.88&quot;</td><td>&quot;0.88&quot;</td><td>&quot;N&quot;</td><td>2025-02-01</td></tr><tr><td>&quot;THA&quot;</td><td>&quot;18.85875&quot;</td><td>&quot;101.03607&quot;</td><td>&quot;308.25&quot;</td><td>&quot;0.39&quot;</td><td>&quot;0.36&quot;</td><td>&quot;2025-02-01&quot;</td><td>&quot;1847&quot;</td><td>&quot;N&quot;</td><td>&quot;VIIRS&quot;</td><td>&quot;n&quot;</td><td>&quot;2.0NRT&quot;</td><td>&quot;288.84&quot;</td><td>&quot;0.92&quot;</td><td>&quot;N&quot;</td><td>2025-02-01</td></tr><tr><td>&quot;THA&quot;</td><td>&quot;18.87356&quot;</td><td>&quot;99.68552&quot;</td><td>&quot;310.19&quot;</td><td>&quot;0.42&quot;</td><td>&quot;0.38&quot;</td><td>&quot;2025-02-01&quot;</td><td>&quot;1847&quot;</td><td>&quot;N&quot;</td><td>&quot;VIIRS&quot;</td><td>&quot;n&quot;</td><td>&quot;2.0NRT&quot;</td><td>&quot;290.93&quot;</td><td>&quot;1.56&quot;</td><td>&quot;N&quot;</td><td>2025-02-01</td></tr><tr><td>&quot;THA&quot;</td><td>&quot;18.87704&quot;</td><td>&quot;99.68604&quot;</td><td>&quot;303.29&quot;</td><td>&quot;0.42&quot;</td><td>&quot;0.38&quot;</td><td>&quot;2025-02-01&quot;</td><td>&quot;1847&quot;</td><td>&quot;N&quot;</td><td>&quot;VIIRS&quot;</td><td>&quot;n&quot;</td><td>&quot;2.0NRT&quot;</td><td>&quot;290.43&quot;</td><td>&quot;0.58&quot;</td><td>&quot;N&quot;</td><td>2025-02-01</td></tr><tr><td>&quot;THA&quot;</td><td>&quot;18.89662&quot;</td><td>&quot;100.22108&quot;</td><td>&quot;301.68&quot;</td><td>&quot;0.41&quot;</td><td>&quot;0.37&quot;</td><td>&quot;2025-02-01&quot;</td><td>&quot;1847&quot;</td><td>&quot;N&quot;</td><td>&quot;VIIRS&quot;</td><td>&quot;n&quot;</td><td>&quot;2.0NRT&quot;</td><td>&quot;290.79&quot;</td><td>&quot;0.46&quot;</td><td>&quot;N&quot;</td><td>2025-02-01</td></tr><tr><td>&hellip;</td><td>&hellip;</td><td>&hellip;</td><td>&hellip;</td><td>&hellip;</td><td>&hellip;</td><td>&hellip;</td><td>&hellip;</td><td>&hellip;</td><td>&hellip;</td><td>&hellip;</td><td>&hellip;</td><td>&hellip;</td><td>&hellip;</td><td>&hellip;</td><td>&hellip;</td></tr><tr><td>&quot;THA&quot;</td><td>&quot;19.96813&quot;</td><td>&quot;100.15673&quot;</td><td>&quot;332.3&quot;</td><td>&quot;0.44&quot;</td><td>&quot;0.39&quot;</td><td>&quot;2025-04-26&quot;</td><td>&quot;644&quot;</td><td>&quot;N&quot;</td><td>&quot;VIIRS&quot;</td><td>&quot;l&quot;</td><td>&quot;2.0NRT&quot;</td><td>&quot;303.14&quot;</td><td>&quot;1.28&quot;</td><td>&quot;D&quot;</td><td>2025-04-26</td></tr><tr><td>&quot;THA&quot;</td><td>&quot;19.97167&quot;</td><td>&quot;100.15617&quot;</td><td>&quot;334.31&quot;</td><td>&quot;0.44&quot;</td><td>&quot;0.39&quot;</td><td>&quot;2025-04-26&quot;</td><td>&quot;644&quot;</td><td>&quot;N&quot;</td><td>&quot;VIIRS&quot;</td><td>&quot;n&quot;</td><td>&quot;2.0NRT&quot;</td><td>&quot;302.34&quot;</td><td>&quot;2.26&quot;</td><td>&quot;D&quot;</td><td>2025-04-26</td></tr><tr><td>&quot;THA&quot;</td><td>&quot;19.99866&quot;</td><td>&quot;100.3531&quot;</td><td>&quot;335.39&quot;</td><td>&quot;0.45&quot;</td><td>&quot;0.39&quot;</td><td>&quot;2025-04-26&quot;</td><td>&quot;644&quot;</td><td>&quot;N&quot;</td><td>&quot;VIIRS&quot;</td><td>&quot;n&quot;</td><td>&quot;2.0NRT&quot;</td><td>&quot;302.86&quot;</td><td>&quot;5.03&quot;</td><td>&quot;D&quot;</td><td>2025-04-26</td></tr><tr><td>&quot;THA&quot;</td><td>&quot;20.00282&quot;</td><td>&quot;100.3568&quot;</td><td>&quot;339.38&quot;</td><td>&quot;0.45&quot;</td><td>&quot;0.39&quot;</td><td>&quot;2025-04-26&quot;</td><td>&quot;644&quot;</td><td>&quot;N&quot;</td><td>&quot;VIIRS&quot;</td><td>&quot;n&quot;</td><td>&quot;2.0NRT&quot;</td><td>&quot;303.35&quot;</td><td>&quot;9.32&quot;</td><td>&quot;D&quot;</td><td>2025-04-26</td></tr><tr><td>&quot;THA&quot;</td><td>&quot;20.09533&quot;</td><td>&quot;100.45958&quot;</td><td>&quot;333.9&quot;</td><td>&quot;0.46&quot;</td><td>&quot;0.39&quot;</td><td>&quot;2025-04-26&quot;</td><td>&quot;644&quot;</td><td>&quot;N&quot;</td><td>&quot;VIIRS&quot;</td><td>&quot;n&quot;</td><td>&quot;2.0NRT&quot;</td><td>&quot;301.5&quot;</td><td>&quot;6.63&quot;</td><td>&quot;D&quot;</td><td>2025-04-26</td></tr></tbody></table></div>"
      ],
      "text/plain": [
       "shape: (77_812, 16)\n",
       "┌─────────────┬──────────┬───────────┬────────────┬───┬────────────┬──────┬──────────┬─────────────┐\n",
       "│ ____S______ ┆ latitude ┆ longitude ┆ bright_ti4 ┆ … ┆ bright_ti5 ┆ frp  ┆ daynight ┆ measurement │\n",
       "│ X_S__countr ┆ ---      ┆ ---       ┆ ---        ┆   ┆ ---        ┆ ---  ┆ ---      ┆ _date       │\n",
       "│ y_id        ┆ str      ┆ str       ┆ str        ┆   ┆ str        ┆ str  ┆ str      ┆ ---         │\n",
       "│ ---         ┆          ┆           ┆            ┆   ┆            ┆      ┆          ┆ date        │\n",
       "│ str         ┆          ┆           ┆            ┆   ┆            ┆      ┆          ┆             │\n",
       "╞═════════════╪══════════╪═══════════╪════════════╪═══╪════════════╪══════╪══════════╪═════════════╡\n",
       "│ THA         ┆ 18.84668 ┆ 100.32352 ┆ 309.01     ┆ … ┆ 290.88     ┆ 0.88 ┆ N        ┆ 2025-02-01  │\n",
       "│ THA         ┆ 18.85875 ┆ 101.03607 ┆ 308.25     ┆ … ┆ 288.84     ┆ 0.92 ┆ N        ┆ 2025-02-01  │\n",
       "│ THA         ┆ 18.87356 ┆ 99.68552  ┆ 310.19     ┆ … ┆ 290.93     ┆ 1.56 ┆ N        ┆ 2025-02-01  │\n",
       "│ THA         ┆ 18.87704 ┆ 99.68604  ┆ 303.29     ┆ … ┆ 290.43     ┆ 0.58 ┆ N        ┆ 2025-02-01  │\n",
       "│ THA         ┆ 18.89662 ┆ 100.22108 ┆ 301.68     ┆ … ┆ 290.79     ┆ 0.46 ┆ N        ┆ 2025-02-01  │\n",
       "│ …           ┆ …        ┆ …         ┆ …          ┆ … ┆ …          ┆ …    ┆ …        ┆ …           │\n",
       "│ THA         ┆ 19.96813 ┆ 100.15673 ┆ 332.3      ┆ … ┆ 303.14     ┆ 1.28 ┆ D        ┆ 2025-04-26  │\n",
       "│ THA         ┆ 19.97167 ┆ 100.15617 ┆ 334.31     ┆ … ┆ 302.34     ┆ 2.26 ┆ D        ┆ 2025-04-26  │\n",
       "│ THA         ┆ 19.99866 ┆ 100.3531  ┆ 335.39     ┆ … ┆ 302.86     ┆ 5.03 ┆ D        ┆ 2025-04-26  │\n",
       "│ THA         ┆ 20.00282 ┆ 100.3568  ┆ 339.38     ┆ … ┆ 303.35     ┆ 9.32 ┆ D        ┆ 2025-04-26  │\n",
       "│ THA         ┆ 20.09533 ┆ 100.45958 ┆ 333.9      ┆ … ┆ 301.5      ┆ 6.63 ┆ D        ┆ 2025-04-26  │\n",
       "└─────────────┴──────────┴───────────┴────────────┴───┴────────────┴──────┴──────────┴─────────────┘"
      ]
     },
     "execution_count": 38,
     "metadata": {},
     "output_type": "execute_result"
    }
   ],
   "source": [
    "# sample query\n",
    "conn.sql(\"\"\"\n",
    "    SELECT *\n",
    "    FROM public.nasa_firms_raw\n",
    "    ORDER BY acq_date, acq_time\n",
    "    \"\"\").pl()"
   ]
  },
  {
   "cell_type": "code",
   "execution_count": 13,
   "id": "f0143f0e-ca0c-4455-b942-a0a7d1e35c7c",
   "metadata": {},
   "outputs": [
    {
     "data": {
      "text/html": [
       "<div>\n",
       "<style scoped>\n",
       "    .dataframe tbody tr th:only-of-type {\n",
       "        vertical-align: middle;\n",
       "    }\n",
       "\n",
       "    .dataframe tbody tr th {\n",
       "        vertical-align: top;\n",
       "    }\n",
       "\n",
       "    .dataframe thead th {\n",
       "        text-align: right;\n",
       "    }\n",
       "</style>\n",
       "<table border=\"1\" class=\"dataframe\">\n",
       "  <thead>\n",
       "    <tr style=\"text-align: right;\">\n",
       "      <th></th>\n",
       "      <th>country_id</th>\n",
       "      <th>latitude</th>\n",
       "      <th>longitude</th>\n",
       "      <th>geometry</th>\n",
       "      <th>bright_ti4</th>\n",
       "      <th>scan</th>\n",
       "      <th>track</th>\n",
       "      <th>acq_datetime</th>\n",
       "      <th>satellite</th>\n",
       "      <th>instrument</th>\n",
       "      <th>confidence</th>\n",
       "      <th>version</th>\n",
       "      <th>bright_ti5</th>\n",
       "      <th>frp</th>\n",
       "      <th>daynight</th>\n",
       "      <th>measurement_date</th>\n",
       "    </tr>\n",
       "  </thead>\n",
       "  <tbody>\n",
       "    <tr>\n",
       "      <th>0</th>\n",
       "      <td>THA</td>\n",
       "      <td>7.770230</td>\n",
       "      <td>99.198730</td>\n",
       "      <td>POINT (99.19873 7.77023)</td>\n",
       "      <td>334.279999</td>\n",
       "      <td>0.53</td>\n",
       "      <td>0.50</td>\n",
       "      <td>2025-02-01 06:16:00</td>\n",
       "      <td>N</td>\n",
       "      <td>VIIRS</td>\n",
       "      <td>n</td>\n",
       "      <td>2.0NRT</td>\n",
       "      <td>297.679993</td>\n",
       "      <td>3.27</td>\n",
       "      <td>D</td>\n",
       "      <td>2025-02-01</td>\n",
       "    </tr>\n",
       "    <tr>\n",
       "      <th>1</th>\n",
       "      <td>THA</td>\n",
       "      <td>7.789710</td>\n",
       "      <td>99.313652</td>\n",
       "      <td>POINT (99.31365 7.78971)</td>\n",
       "      <td>343.109985</td>\n",
       "      <td>0.52</td>\n",
       "      <td>0.50</td>\n",
       "      <td>2025-02-01 06:16:00</td>\n",
       "      <td>N</td>\n",
       "      <td>VIIRS</td>\n",
       "      <td>n</td>\n",
       "      <td>2.0NRT</td>\n",
       "      <td>300.500000</td>\n",
       "      <td>10.58</td>\n",
       "      <td>D</td>\n",
       "      <td>2025-02-01</td>\n",
       "    </tr>\n",
       "    <tr>\n",
       "      <th>2</th>\n",
       "      <td>THA</td>\n",
       "      <td>9.157640</td>\n",
       "      <td>99.054543</td>\n",
       "      <td>POINT (99.05454 9.15764)</td>\n",
       "      <td>331.929993</td>\n",
       "      <td>0.51</td>\n",
       "      <td>0.50</td>\n",
       "      <td>2025-02-01 06:16:00</td>\n",
       "      <td>N</td>\n",
       "      <td>VIIRS</td>\n",
       "      <td>n</td>\n",
       "      <td>2.0NRT</td>\n",
       "      <td>297.540009</td>\n",
       "      <td>4.03</td>\n",
       "      <td>D</td>\n",
       "      <td>2025-02-01</td>\n",
       "    </tr>\n",
       "    <tr>\n",
       "      <th>3</th>\n",
       "      <td>THA</td>\n",
       "      <td>9.351550</td>\n",
       "      <td>98.980347</td>\n",
       "      <td>POINT (98.98035 9.35155)</td>\n",
       "      <td>328.570007</td>\n",
       "      <td>0.52</td>\n",
       "      <td>0.50</td>\n",
       "      <td>2025-02-01 06:16:00</td>\n",
       "      <td>N</td>\n",
       "      <td>VIIRS</td>\n",
       "      <td>n</td>\n",
       "      <td>2.0NRT</td>\n",
       "      <td>297.089996</td>\n",
       "      <td>3.33</td>\n",
       "      <td>D</td>\n",
       "      <td>2025-02-01</td>\n",
       "    </tr>\n",
       "    <tr>\n",
       "      <th>4</th>\n",
       "      <td>THA</td>\n",
       "      <td>12.521200</td>\n",
       "      <td>99.823509</td>\n",
       "      <td>POINT (99.82351 12.5212)</td>\n",
       "      <td>348.799988</td>\n",
       "      <td>0.41</td>\n",
       "      <td>0.45</td>\n",
       "      <td>2025-02-01 06:16:00</td>\n",
       "      <td>N</td>\n",
       "      <td>VIIRS</td>\n",
       "      <td>n</td>\n",
       "      <td>2.0NRT</td>\n",
       "      <td>297.950012</td>\n",
       "      <td>3.48</td>\n",
       "      <td>D</td>\n",
       "      <td>2025-02-01</td>\n",
       "    </tr>\n",
       "    <tr>\n",
       "      <th>...</th>\n",
       "      <td>...</td>\n",
       "      <td>...</td>\n",
       "      <td>...</td>\n",
       "      <td>...</td>\n",
       "      <td>...</td>\n",
       "      <td>...</td>\n",
       "      <td>...</td>\n",
       "      <td>...</td>\n",
       "      <td>...</td>\n",
       "      <td>...</td>\n",
       "      <td>...</td>\n",
       "      <td>...</td>\n",
       "      <td>...</td>\n",
       "      <td>...</td>\n",
       "      <td>...</td>\n",
       "      <td>...</td>\n",
       "    </tr>\n",
       "    <tr>\n",
       "      <th>77807</th>\n",
       "      <td>THA</td>\n",
       "      <td>19.737671</td>\n",
       "      <td>100.326523</td>\n",
       "      <td>POINT (100.32652 19.73767)</td>\n",
       "      <td>304.170013</td>\n",
       "      <td>0.51</td>\n",
       "      <td>0.41</td>\n",
       "      <td>2025-04-26 19:13:00</td>\n",
       "      <td>N</td>\n",
       "      <td>VIIRS</td>\n",
       "      <td>n</td>\n",
       "      <td>2.0NRT</td>\n",
       "      <td>278.230011</td>\n",
       "      <td>1.47</td>\n",
       "      <td>N</td>\n",
       "      <td>2025-04-26</td>\n",
       "    </tr>\n",
       "    <tr>\n",
       "      <th>77808</th>\n",
       "      <td>THA</td>\n",
       "      <td>19.744410</td>\n",
       "      <td>100.329308</td>\n",
       "      <td>POINT (100.32931 19.74441)</td>\n",
       "      <td>300.359985</td>\n",
       "      <td>0.51</td>\n",
       "      <td>0.41</td>\n",
       "      <td>2025-04-26 19:13:00</td>\n",
       "      <td>N</td>\n",
       "      <td>VIIRS</td>\n",
       "      <td>n</td>\n",
       "      <td>2.0NRT</td>\n",
       "      <td>277.100006</td>\n",
       "      <td>1.06</td>\n",
       "      <td>N</td>\n",
       "      <td>2025-04-26</td>\n",
       "    </tr>\n",
       "    <tr>\n",
       "      <th>77809</th>\n",
       "      <td>THA</td>\n",
       "      <td>19.799959</td>\n",
       "      <td>100.366730</td>\n",
       "      <td>POINT (100.36673 19.79996)</td>\n",
       "      <td>302.489990</td>\n",
       "      <td>0.51</td>\n",
       "      <td>0.41</td>\n",
       "      <td>2025-04-26 19:13:00</td>\n",
       "      <td>N</td>\n",
       "      <td>VIIRS</td>\n",
       "      <td>n</td>\n",
       "      <td>2.0NRT</td>\n",
       "      <td>277.260010</td>\n",
       "      <td>1.01</td>\n",
       "      <td>N</td>\n",
       "      <td>2025-04-26</td>\n",
       "    </tr>\n",
       "    <tr>\n",
       "      <th>77810</th>\n",
       "      <td>THA</td>\n",
       "      <td>8.562080</td>\n",
       "      <td>98.974892</td>\n",
       "      <td>POINT (98.97489 8.56208)</td>\n",
       "      <td>308.149994</td>\n",
       "      <td>0.42</td>\n",
       "      <td>0.45</td>\n",
       "      <td>2025-04-26 19:15:00</td>\n",
       "      <td>N</td>\n",
       "      <td>VIIRS</td>\n",
       "      <td>n</td>\n",
       "      <td>2.0NRT</td>\n",
       "      <td>289.100006</td>\n",
       "      <td>0.72</td>\n",
       "      <td>N</td>\n",
       "      <td>2025-04-26</td>\n",
       "    </tr>\n",
       "    <tr>\n",
       "      <th>77811</th>\n",
       "      <td>THA</td>\n",
       "      <td>12.880910</td>\n",
       "      <td>101.465714</td>\n",
       "      <td>POINT (101.46571 12.88091)</td>\n",
       "      <td>302.109985</td>\n",
       "      <td>0.51</td>\n",
       "      <td>0.50</td>\n",
       "      <td>2025-04-26 19:15:00</td>\n",
       "      <td>N</td>\n",
       "      <td>VIIRS</td>\n",
       "      <td>n</td>\n",
       "      <td>2.0NRT</td>\n",
       "      <td>276.989990</td>\n",
       "      <td>0.73</td>\n",
       "      <td>N”.</td>\n",
       "      <td>2025-04-26</td>\n",
       "    </tr>\n",
       "  </tbody>\n",
       "</table>\n",
       "<p>77812 rows × 16 columns</p>\n",
       "</div>"
      ],
      "text/plain": [
       "      country_id   latitude   longitude                    geometry  \\\n",
       "0            THA   7.770230   99.198730    POINT (99.19873 7.77023)   \n",
       "1            THA   7.789710   99.313652    POINT (99.31365 7.78971)   \n",
       "2            THA   9.157640   99.054543    POINT (99.05454 9.15764)   \n",
       "3            THA   9.351550   98.980347    POINT (98.98035 9.35155)   \n",
       "4            THA  12.521200   99.823509    POINT (99.82351 12.5212)   \n",
       "...          ...        ...         ...                         ...   \n",
       "77807        THA  19.737671  100.326523  POINT (100.32652 19.73767)   \n",
       "77808        THA  19.744410  100.329308  POINT (100.32931 19.74441)   \n",
       "77809        THA  19.799959  100.366730  POINT (100.36673 19.79996)   \n",
       "77810        THA   8.562080   98.974892    POINT (98.97489 8.56208)   \n",
       "77811        THA  12.880910  101.465714  POINT (101.46571 12.88091)   \n",
       "\n",
       "       bright_ti4  scan  track        acq_datetime satellite instrument  \\\n",
       "0      334.279999  0.53   0.50 2025-02-01 06:16:00         N      VIIRS   \n",
       "1      343.109985  0.52   0.50 2025-02-01 06:16:00         N      VIIRS   \n",
       "2      331.929993  0.51   0.50 2025-02-01 06:16:00         N      VIIRS   \n",
       "3      328.570007  0.52   0.50 2025-02-01 06:16:00         N      VIIRS   \n",
       "4      348.799988  0.41   0.45 2025-02-01 06:16:00         N      VIIRS   \n",
       "...           ...   ...    ...                 ...       ...        ...   \n",
       "77807  304.170013  0.51   0.41 2025-04-26 19:13:00         N      VIIRS   \n",
       "77808  300.359985  0.51   0.41 2025-04-26 19:13:00         N      VIIRS   \n",
       "77809  302.489990  0.51   0.41 2025-04-26 19:13:00         N      VIIRS   \n",
       "77810  308.149994  0.42   0.45 2025-04-26 19:15:00         N      VIIRS   \n",
       "77811  302.109985  0.51   0.50 2025-04-26 19:15:00         N      VIIRS   \n",
       "\n",
       "      confidence version  bright_ti5    frp daynight measurement_date  \n",
       "0              n  2.0NRT  297.679993   3.27        D       2025-02-01  \n",
       "1              n  2.0NRT  300.500000  10.58        D       2025-02-01  \n",
       "2              n  2.0NRT  297.540009   4.03        D       2025-02-01  \n",
       "3              n  2.0NRT  297.089996   3.33        D       2025-02-01  \n",
       "4              n  2.0NRT  297.950012   3.48        D       2025-02-01  \n",
       "...          ...     ...         ...    ...      ...              ...  \n",
       "77807          n  2.0NRT  278.230011   1.47        N       2025-04-26  \n",
       "77808          n  2.0NRT  277.100006   1.06        N       2025-04-26  \n",
       "77809          n  2.0NRT  277.260010   1.01        N       2025-04-26  \n",
       "77810          n  2.0NRT  289.100006   0.72        N       2025-04-26  \n",
       "77811          n  2.0NRT  276.989990   0.73      N”.       2025-04-26  \n",
       "\n",
       "[77812 rows x 16 columns]"
      ]
     },
     "execution_count": 13,
     "metadata": {},
     "output_type": "execute_result"
    }
   ],
   "source": [
    "# sample query\n",
    "df = conn.sql(\"\"\"\n",
    "    SELECT\n",
    "        CAST(____S______X_S__country_id AS VARCHAR) AS country_id,\n",
    "        CAST(latitude AS FLOAT) AS latitude,\n",
    "        CAST(longitude AS FLOAT) AS longitude,\n",
    "        CONCAT('POINT (', longitude, ' ', latitude,')') AS geometry,\n",
    "        CAST(bright_ti4 AS FLOAT) AS bright_ti4,\n",
    "        CAST(scan AS FLOAT) AS scan,\n",
    "        CAST(track AS FLOAT) AS track,\n",
    "        STRPTIME(CONCAT(acq_date, ' ',\n",
    "            CASE\n",
    "                WHEN LENGTH(acq_time) = 4 THEN CONCAT(SUBSTR(acq_time, 1, 2), ':', SUBSTR(acq_time, 3, 2), ':00')\n",
    "                WHEN LENGTH(acq_time) = 3 THEN CONCAT('0', SUBSTR(acq_time, 1, 1), ':', SUBSTR(acq_time, 2, 2), ':00')\n",
    "                WHEN LENGTH(acq_time) = 2 THEN CONCAT('00:', acq_time, ':00')\n",
    "                ELSE NULL\n",
    "            END),\n",
    "            '%Y-%m-%d %H:%M:%S'\n",
    "        ) AS acq_datetime,\n",
    "        CAST(satellite AS VARCHAR) AS satellite,\n",
    "        CAST(instrument AS VARCHAR) AS instrument,\n",
    "        CAST(confidence AS VARCHAR) AS confidence,\n",
    "        CAST(version AS VARCHAR) AS version,\n",
    "        CAST(bright_ti5 AS FLOAT) AS bright_ti5,\n",
    "        CAST(frp AS FLOAT) AS frp,\n",
    "        CAST(daynight AS VARCHAR) AS daynight,\n",
    "        CAST(measurement_date AS DATE) AS measurement_date\n",
    "    FROM public.nasa_firms_raw\n",
    "    ORDER BY acq_datetime;\n",
    "    \"\"\").pl()\n",
    "\n",
    "# convert to pandas\n",
    "df = df.to_pandas()\n",
    "\n",
    "# create geometries in geodataframe\n",
    "df[\"geometry\"] = df[\"geometry\"].apply(wkt.loads)\n",
    "gpd.GeoDataFrame(df, geometry=\"geometry\")"
   ]
  },
  {
   "cell_type": "markdown",
   "id": "5fd2a2cc-46e7-45e4-814f-10547f1e6a38",
   "metadata": {
    "editable": true,
    "slideshow": {
     "slide_type": ""
    },
    "tags": []
   },
   "source": [
    "## WAQI Air Quality"
   ]
  },
  {
   "cell_type": "code",
   "execution_count": 5,
   "id": "8e6899b3-6782-42a4-a6cd-e789a05b1912",
   "metadata": {
    "editable": true,
    "slideshow": {
     "slide_type": ""
    },
    "tags": []
   },
   "outputs": [
    {
     "data": {
      "text/html": [
       "<div><style>\n",
       ".dataframe > thead > tr,\n",
       ".dataframe > tbody > tr {\n",
       "  text-align: right;\n",
       "  white-space: pre-wrap;\n",
       "}\n",
       "</style>\n",
       "<small>shape: (50, 7)</small><table border=\"1\" class=\"dataframe\"><thead><tr><th>date</th><th>pm25</th><th>pm10</th><th>o3</th><th>no2</th><th>so2</th><th>co</th></tr><tr><td>str</td><td>str</td><td>str</td><td>str</td><td>str</td><td>str</td><td>str</td></tr></thead><tbody><tr><td>&quot;01-Apr-14&quot;</td><td>null</td><td>&quot;89&quot;</td><td>&quot;12&quot;</td><td>&quot;33&quot;</td><td>&quot;28&quot;</td><td>&quot;15&quot;</td></tr><tr><td>&quot;01-Apr-15&quot;</td><td>null</td><td>&quot;45&quot;</td><td>&quot;48&quot;</td><td>&quot;14&quot;</td><td>&quot;14&quot;</td><td>&quot;9&quot;</td></tr><tr><td>&quot;01-Apr-16&quot;</td><td>&quot;134&quot;</td><td>&quot;72&quot;</td><td>&quot;54&quot;</td><td>&quot;27&quot;</td><td>&quot;1&quot;</td><td>&quot;14&quot;</td></tr><tr><td>&quot;01-Apr-17&quot;</td><td>&quot;145&quot;</td><td>&quot;35&quot;</td><td>&quot;17&quot;</td><td>&quot;5&quot;</td><td>&quot; &quot;</td><td>&quot; &quot;</td></tr><tr><td>&quot;01-Apr-18&quot;</td><td>&quot;135&quot;</td><td>&quot;64&quot;</td><td>&quot;30&quot;</td><td>&quot;6&quot;</td><td>&quot;11&quot;</td><td>&quot; &quot;</td></tr><tr><td>&hellip;</td><td>&hellip;</td><td>&hellip;</td><td>&hellip;</td><td>&hellip;</td><td>&hellip;</td><td>&hellip;</td></tr><tr><td>&quot;01-Jan-14&quot;</td><td>null</td><td>&quot;56&quot;</td><td>&quot;43&quot;</td><td>&quot;20&quot;</td><td>&quot;3&quot;</td><td>&quot;9&quot;</td></tr><tr><td>&quot;01-Jan-15&quot;</td><td>null</td><td>&quot;39&quot;</td><td>&quot;37&quot;</td><td>&quot;15&quot;</td><td>&quot;9&quot;</td><td>&quot;10&quot;</td></tr><tr><td>&quot;01-Jan-17&quot;</td><td>null</td><td>&quot;22&quot;</td><td>&quot;12&quot;</td><td>&quot;4&quot;</td><td>&quot; &quot;</td><td>&quot; &quot;</td></tr><tr><td>&quot;01-Jan-18&quot;</td><td>&quot;84&quot;</td><td>&quot;42&quot;</td><td>&quot;15&quot;</td><td>&quot;8&quot;</td><td>&quot; &quot;</td><td>&quot; &quot;</td></tr><tr><td>&quot;01-Jan-19&quot;</td><td>&quot;88&quot;</td><td>&quot;35&quot;</td><td>&quot;19&quot;</td><td>&quot;7&quot;</td><td>&quot; &quot;</td><td>&quot; &quot;</td></tr></tbody></table></div>"
      ],
      "text/plain": [
       "shape: (50, 7)\n",
       "┌───────────┬──────┬──────┬─────┬─────┬─────┬─────┐\n",
       "│ date      ┆ pm25 ┆ pm10 ┆ o3  ┆ no2 ┆ so2 ┆ co  │\n",
       "│ ---       ┆ ---  ┆ ---  ┆ --- ┆ --- ┆ --- ┆ --- │\n",
       "│ str       ┆ str  ┆ str  ┆ str ┆ str ┆ str ┆ str │\n",
       "╞═══════════╪══════╪══════╪═════╪═════╪═════╪═════╡\n",
       "│ 01-Apr-14 ┆ null ┆ 89   ┆ 12  ┆ 33  ┆ 28  ┆ 15  │\n",
       "│ 01-Apr-15 ┆ null ┆ 45   ┆ 48  ┆ 14  ┆ 14  ┆ 9   │\n",
       "│ 01-Apr-16 ┆ 134  ┆ 72   ┆ 54  ┆ 27  ┆ 1   ┆ 14  │\n",
       "│ 01-Apr-17 ┆ 145  ┆ 35   ┆ 17  ┆ 5   ┆     ┆     │\n",
       "│ 01-Apr-18 ┆ 135  ┆ 64   ┆ 30  ┆ 6   ┆ 11  ┆     │\n",
       "│ …         ┆ …    ┆ …    ┆ …   ┆ …   ┆ …   ┆ …   │\n",
       "│ 01-Jan-14 ┆ null ┆ 56   ┆ 43  ┆ 20  ┆ 3   ┆ 9   │\n",
       "│ 01-Jan-15 ┆ null ┆ 39   ┆ 37  ┆ 15  ┆ 9   ┆ 10  │\n",
       "│ 01-Jan-17 ┆ null ┆ 22   ┆ 12  ┆ 4   ┆     ┆     │\n",
       "│ 01-Jan-18 ┆ 84   ┆ 42   ┆ 15  ┆ 8   ┆     ┆     │\n",
       "│ 01-Jan-19 ┆ 88   ┆ 35   ┆ 19  ┆ 7   ┆     ┆     │\n",
       "└───────────┴──────┴──────┴─────┴─────┴─────┴─────┘"
      ]
     },
     "execution_count": 5,
     "metadata": {},
     "output_type": "execute_result"
    }
   ],
   "source": [
    "# sample query\n",
    "conn.sql(\"\"\"\n",
    "    SELECT *\n",
    "    FROM public.waqi_airquality_raw\n",
    "    ORDER BY date\n",
    "    LIMIT 50;\n",
    "    \"\"\").pl()"
   ]
  },
  {
   "cell_type": "markdown",
   "id": "23ff7012-0cc5-4f6f-8de4-82955f668aee",
   "metadata": {
    "editable": true,
    "slideshow": {
     "slide_type": ""
    },
    "tags": []
   },
   "source": [
    "## Project CCHAIN"
   ]
  },
  {
   "cell_type": "code",
   "execution_count": 5,
   "id": "c33e875f-fc23-4b0d-90e9-bab1e3384499",
   "metadata": {
    "editable": true,
    "slideshow": {
     "slide_type": ""
    },
    "tags": []
   },
   "outputs": [
    {
     "data": {
      "application/vnd.jupyter.widget-view+json": {
       "model_id": "697b508bfaf341ec9444ee1941e10d6d",
       "version_major": 2,
       "version_minor": 0
      },
      "text/plain": [
       "FloatProgress(value=0.0, layout=Layout(width='auto'), style=ProgressStyle(bar_color='black'))"
      ]
     },
     "metadata": {},
     "output_type": "display_data"
    },
    {
     "data": {
      "text/html": [
       "<div><style>\n",
       ".dataframe > thead > tr,\n",
       ".dataframe > tbody > tr {\n",
       "  text-align: right;\n",
       "  white-space: pre-wrap;\n",
       "}\n",
       "</style>\n",
       "<small>shape: (50, 19)</small><table border=\"1\" class=\"dataframe\"><thead><tr><th>uuid</th><th>date</th><th>adm1_en</th><th>adm1_pcode</th><th>adm2_en</th><th>adm2_pcode</th><th>adm3_en</th><th>adm3_pcode</th><th>adm4_en</th><th>adm4_pcode</th><th>tave</th><th>tmin</th><th>tmax</th><th>heat_index</th><th>pr</th><th>wind_speed</th><th>rh</th><th>solar_rad</th><th>uv_rad</th></tr><tr><td>str</td><td>str</td><td>str</td><td>str</td><td>str</td><td>str</td><td>str</td><td>str</td><td>str</td><td>str</td><td>str</td><td>str</td><td>str</td><td>str</td><td>str</td><td>str</td><td>str</td><td>str</td><td>str</td></tr></thead><tbody><tr><td>&quot;CATMS039120&quot;</td><td>&quot;2003-01-01&quot;</td><td>&quot;Region III&quot;</td><td>&quot;PH030000000&quot;</td><td>&quot;Nueva Ecija&quot;</td><td>&quot;PH034900000&quot;</td><td>&quot;Palayan City&quot;</td><td>&quot;PH034919000&quot;</td><td>&quot;Bo. Militar (Fort Magsaysay)&quot;</td><td>&quot;PH034919003&quot;</td><td>&quot;24.74&quot;</td><td>&quot;21.27&quot;</td><td>&quot;29.01&quot;</td><td>&quot;25.51&quot;</td><td>&quot;0.0&quot;</td><td>&quot;3.13&quot;</td><td>&quot;73.67&quot;</td><td>&quot;203.03&quot;</td><td>&quot;24.45&quot;</td></tr><tr><td>&quot;CATMS01E519&quot;</td><td>&quot;2003-01-01&quot;</td><td>&quot;Region I&quot;</td><td>&quot;PH010000000&quot;</td><td>&quot;Pangasinan&quot;</td><td>&quot;PH015500000&quot;</td><td>&quot;Dagupan City&quot;</td><td>&quot;PH015518000&quot;</td><td>&quot;Mamalingling&quot;</td><td>&quot;PH015518019&quot;</td><td>&quot;26.85&quot;</td><td>&quot;24.49&quot;</td><td>&quot;30.17&quot;</td><td>&quot;27.91&quot;</td><td>&quot;0.0&quot;</td><td>&quot;2.0&quot;</td><td>&quot;68.59&quot;</td><td>&quot;193.62&quot;</td><td>&quot;23.77&quot;</td></tr><tr><td>&quot;CATMS021E2B&quot;</td><td>&quot;2003-01-01&quot;</td><td>&quot;Region I&quot;</td><td>&quot;PH010000000&quot;</td><td>&quot;Pangasinan&quot;</td><td>&quot;PH015500000&quot;</td><td>&quot;Dagupan City&quot;</td><td>&quot;PH015518000&quot;</td><td>&quot;Mayombo&quot;</td><td>&quot;PH015518021&quot;</td><td>&quot;26.85&quot;</td><td>&quot;24.49&quot;</td><td>&quot;30.17&quot;</td><td>&quot;27.91&quot;</td><td>&quot;0.0&quot;</td><td>&quot;2.0&quot;</td><td>&quot;68.59&quot;</td><td>&quot;193.62&quot;</td><td>&quot;23.77&quot;</td></tr><tr><td>&quot;CATMS0458DF&quot;</td><td>&quot;2003-01-01&quot;</td><td>&quot;Region III&quot;</td><td>&quot;PH030000000&quot;</td><td>&quot;Nueva Ecija&quot;</td><td>&quot;PH034900000&quot;</td><td>&quot;Palayan City&quot;</td><td>&quot;PH034919000&quot;</td><td>&quot;Sapang Buho&quot;</td><td>&quot;PH034919011&quot;</td><td>&quot;24.74&quot;</td><td>&quot;21.27&quot;</td><td>&quot;29.01&quot;</td><td>&quot;25.51&quot;</td><td>&quot;0.0&quot;</td><td>&quot;3.13&quot;</td><td>&quot;73.67&quot;</td><td>&quot;203.03&quot;</td><td>&quot;24.45&quot;</td></tr><tr><td>&quot;CATMS00C7BF&quot;</td><td>&quot;2003-01-01&quot;</td><td>&quot;Region I&quot;</td><td>&quot;PH010000000&quot;</td><td>&quot;Pangasinan&quot;</td><td>&quot;PH015500000&quot;</td><td>&quot;Dagupan City&quot;</td><td>&quot;PH015518000&quot;</td><td>&quot;Bonuan Gueset&quot;</td><td>&quot;PH015518009&quot;</td><td>&quot;26.85&quot;</td><td>&quot;24.49&quot;</td><td>&quot;30.17&quot;</td><td>&quot;27.91&quot;</td><td>&quot;0.0&quot;</td><td>&quot;2.0&quot;</td><td>&quot;68.59&quot;</td><td>&quot;193.62&quot;</td><td>&quot;23.77&quot;</td></tr><tr><td>&hellip;</td><td>&hellip;</td><td>&hellip;</td><td>&hellip;</td><td>&hellip;</td><td>&hellip;</td><td>&hellip;</td><td>&hellip;</td><td>&hellip;</td><td>&hellip;</td><td>&hellip;</td><td>&hellip;</td><td>&hellip;</td><td>&hellip;</td><td>&hellip;</td><td>&hellip;</td><td>&hellip;</td><td>&hellip;</td><td>&hellip;</td></tr><tr><td>&quot;CATMS0559B0&quot;</td><td>&quot;2003-01-01&quot;</td><td>&quot;Region III&quot;</td><td>&quot;PH030000000&quot;</td><td>&quot;Nueva Ecija&quot;</td><td>&quot;PH034900000&quot;</td><td>&quot;Palayan City&quot;</td><td>&quot;PH034919000&quot;</td><td>&quot;Popolon Pagas&quot;</td><td>&quot;PH034919021&quot;</td><td>&quot;25.66&quot;</td><td>&quot;21.46&quot;</td><td>&quot;30.74&quot;</td><td>&quot;26.54&quot;</td><td>&quot;0.0&quot;</td><td>&quot;2.81&quot;</td><td>&quot;70.87&quot;</td><td>&quot;209.25&quot;</td><td>&quot;25.13&quot;</td></tr><tr><td>&quot;CATMS01C890&quot;</td><td>&quot;2003-01-01&quot;</td><td>&quot;Region I&quot;</td><td>&quot;PH010000000&quot;</td><td>&quot;Pangasinan&quot;</td><td>&quot;PH015500000&quot;</td><td>&quot;Dagupan City&quot;</td><td>&quot;PH015518000&quot;</td><td>&quot;Malued&quot;</td><td>&quot;PH015518018&quot;</td><td>&quot;26.85&quot;</td><td>&quot;24.49&quot;</td><td>&quot;30.17&quot;</td><td>&quot;27.91&quot;</td><td>&quot;0.0&quot;</td><td>&quot;2.0&quot;</td><td>&quot;68.59&quot;</td><td>&quot;193.62&quot;</td><td>&quot;23.77&quot;</td></tr><tr><td>&quot;CATMS00AB36&quot;</td><td>&quot;2003-01-01&quot;</td><td>&quot;Region I&quot;</td><td>&quot;PH010000000&quot;</td><td>&quot;Pangasinan&quot;</td><td>&quot;PH015500000&quot;</td><td>&quot;Dagupan City&quot;</td><td>&quot;PH015518000&quot;</td><td>&quot;Bonuan Boquig&quot;</td><td>&quot;PH015518008&quot;</td><td>&quot;26.85&quot;</td><td>&quot;24.49&quot;</td><td>&quot;30.17&quot;</td><td>&quot;27.91&quot;</td><td>&quot;0.0&quot;</td><td>&quot;2.0&quot;</td><td>&quot;68.59&quot;</td><td>&quot;193.62&quot;</td><td>&quot;23.77&quot;</td></tr><tr><td>&quot;CATMS003912&quot;</td><td>&quot;2003-01-01&quot;</td><td>&quot;Region I&quot;</td><td>&quot;PH010000000&quot;</td><td>&quot;Pangasinan&quot;</td><td>&quot;PH015500000&quot;</td><td>&quot;Dagupan City&quot;</td><td>&quot;PH015518000&quot;</td><td>&quot;Barangay II (Nueva)&quot;</td><td>&quot;PH015518003&quot;</td><td>&quot;26.85&quot;</td><td>&quot;24.49&quot;</td><td>&quot;30.17&quot;</td><td>&quot;27.91&quot;</td><td>&quot;0.0&quot;</td><td>&quot;2.0&quot;</td><td>&quot;68.59&quot;</td><td>&quot;193.62&quot;</td><td>&quot;23.77&quot;</td></tr><tr><td>&quot;CATMS000000&quot;</td><td>&quot;2003-01-01&quot;</td><td>&quot;Region I&quot;</td><td>&quot;PH010000000&quot;</td><td>&quot;Pangasinan&quot;</td><td>&quot;PH015500000&quot;</td><td>&quot;Dagupan City&quot;</td><td>&quot;PH015518000&quot;</td><td>&quot;Bacayao Norte&quot;</td><td>&quot;PH015518001&quot;</td><td>&quot;26.85&quot;</td><td>&quot;24.49&quot;</td><td>&quot;30.17&quot;</td><td>&quot;27.91&quot;</td><td>&quot;0.0&quot;</td><td>&quot;2.0&quot;</td><td>&quot;68.59&quot;</td><td>&quot;193.62&quot;</td><td>&quot;23.77&quot;</td></tr></tbody></table></div>"
      ],
      "text/plain": [
       "shape: (50, 19)\n",
       "┌─────────────┬────────────┬────────────┬────────────┬───┬────────────┬───────┬───────────┬────────┐\n",
       "│ uuid        ┆ date       ┆ adm1_en    ┆ adm1_pcode ┆ … ┆ wind_speed ┆ rh    ┆ solar_rad ┆ uv_rad │\n",
       "│ ---         ┆ ---        ┆ ---        ┆ ---        ┆   ┆ ---        ┆ ---   ┆ ---       ┆ ---    │\n",
       "│ str         ┆ str        ┆ str        ┆ str        ┆   ┆ str        ┆ str   ┆ str       ┆ str    │\n",
       "╞═════════════╪════════════╪════════════╪════════════╪═══╪════════════╪═══════╪═══════════╪════════╡\n",
       "│ CATMS039120 ┆ 2003-01-01 ┆ Region III ┆ PH03000000 ┆ … ┆ 3.13       ┆ 73.67 ┆ 203.03    ┆ 24.45  │\n",
       "│             ┆            ┆            ┆ 0          ┆   ┆            ┆       ┆           ┆        │\n",
       "│ CATMS01E519 ┆ 2003-01-01 ┆ Region I   ┆ PH01000000 ┆ … ┆ 2.0        ┆ 68.59 ┆ 193.62    ┆ 23.77  │\n",
       "│             ┆            ┆            ┆ 0          ┆   ┆            ┆       ┆           ┆        │\n",
       "│ CATMS021E2B ┆ 2003-01-01 ┆ Region I   ┆ PH01000000 ┆ … ┆ 2.0        ┆ 68.59 ┆ 193.62    ┆ 23.77  │\n",
       "│             ┆            ┆            ┆ 0          ┆   ┆            ┆       ┆           ┆        │\n",
       "│ CATMS0458DF ┆ 2003-01-01 ┆ Region III ┆ PH03000000 ┆ … ┆ 3.13       ┆ 73.67 ┆ 203.03    ┆ 24.45  │\n",
       "│             ┆            ┆            ┆ 0          ┆   ┆            ┆       ┆           ┆        │\n",
       "│ CATMS00C7BF ┆ 2003-01-01 ┆ Region I   ┆ PH01000000 ┆ … ┆ 2.0        ┆ 68.59 ┆ 193.62    ┆ 23.77  │\n",
       "│             ┆            ┆            ┆ 0          ┆   ┆            ┆       ┆           ┆        │\n",
       "│ …           ┆ …          ┆ …          ┆ …          ┆ … ┆ …          ┆ …     ┆ …         ┆ …      │\n",
       "│ CATMS0559B0 ┆ 2003-01-01 ┆ Region III ┆ PH03000000 ┆ … ┆ 2.81       ┆ 70.87 ┆ 209.25    ┆ 25.13  │\n",
       "│             ┆            ┆            ┆ 0          ┆   ┆            ┆       ┆           ┆        │\n",
       "│ CATMS01C890 ┆ 2003-01-01 ┆ Region I   ┆ PH01000000 ┆ … ┆ 2.0        ┆ 68.59 ┆ 193.62    ┆ 23.77  │\n",
       "│             ┆            ┆            ┆ 0          ┆   ┆            ┆       ┆           ┆        │\n",
       "│ CATMS00AB36 ┆ 2003-01-01 ┆ Region I   ┆ PH01000000 ┆ … ┆ 2.0        ┆ 68.59 ┆ 193.62    ┆ 23.77  │\n",
       "│             ┆            ┆            ┆ 0          ┆   ┆            ┆       ┆           ┆        │\n",
       "│ CATMS003912 ┆ 2003-01-01 ┆ Region I   ┆ PH01000000 ┆ … ┆ 2.0        ┆ 68.59 ┆ 193.62    ┆ 23.77  │\n",
       "│             ┆            ┆            ┆ 0          ┆   ┆            ┆       ┆           ┆        │\n",
       "│ CATMS000000 ┆ 2003-01-01 ┆ Region I   ┆ PH01000000 ┆ … ┆ 2.0        ┆ 68.59 ┆ 193.62    ┆ 23.77  │\n",
       "│             ┆            ┆            ┆ 0          ┆   ┆            ┆       ┆           ┆        │\n",
       "└─────────────┴────────────┴────────────┴────────────┴───┴────────────┴───────┴───────────┴────────┘"
      ]
     },
     "execution_count": 5,
     "metadata": {},
     "output_type": "execute_result"
    }
   ],
   "source": [
    "# sample query\n",
    "conn.sql(\"\"\"\n",
    "    SELECT *\n",
    "    FROM public.project_cchain_climate_atmosphere_raw\n",
    "    ORDER BY date\n",
    "    LIMIT 50;\n",
    "    \"\"\").pl()"
   ]
  },
  {
   "cell_type": "code",
   "execution_count": 18,
   "id": "dd03fa20-1db5-42db-b401-0cff9fb58328",
   "metadata": {},
   "outputs": [
    {
     "data": {
      "text/html": [
       "<div><style>\n",
       ".dataframe > thead > tr,\n",
       ".dataframe > tbody > tr {\n",
       "  text-align: right;\n",
       "  white-space: pre-wrap;\n",
       "}\n",
       "</style>\n",
       "<small>shape: (50, 19)</small><table border=\"1\" class=\"dataframe\"><thead><tr><th>uuid</th><th>date</th><th>adm1_en</th><th>adm1_pcode</th><th>adm2_en</th><th>adm2_pcode</th><th>adm3_en</th><th>adm3_pcode</th><th>adm4_en</th><th>adm4_pcode</th><th>tave</th><th>tmin</th><th>tmax</th><th>heat_index</th><th>pr</th><th>wind_speed</th><th>rh</th><th>solar_rad</th><th>uv_rad</th></tr><tr><td>str</td><td>date</td><td>str</td><td>str</td><td>str</td><td>str</td><td>str</td><td>str</td><td>str</td><td>str</td><td>f32</td><td>f32</td><td>f32</td><td>f32</td><td>f32</td><td>f32</td><td>f32</td><td>f32</td><td>f32</td></tr></thead><tbody><tr><td>&quot;CATMS339D3C&quot;</td><td>2004-01-09</td><td>&quot;Region VIII&quot;</td><td>&quot;PH080000000&quot;</td><td>&quot;Leyte&quot;</td><td>&quot;PH083700000&quot;</td><td>&quot;Tacloban City&quot;</td><td>&quot;PH083747000&quot;</td><td>&quot;Barangay 23-A&quot;</td><td>&quot;PH083747154&quot;</td><td>26.57</td><td>24.52</td><td>29.23</td><td>27.690001</td><td>0.0</td><td>4.7</td><td>68.760002</td><td>229.410004</td><td>26.66</td></tr><tr><td>&quot;CATMS33642A&quot;</td><td>2004-01-09</td><td>&quot;Region VIII&quot;</td><td>&quot;PH080000000&quot;</td><td>&quot;Leyte&quot;</td><td>&quot;PH083700000&quot;</td><td>&quot;Tacloban City&quot;</td><td>&quot;PH083747000&quot;</td><td>&quot;Barangay 95-A (Caibaan)&quot;</td><td>&quot;PH083747152&quot;</td><td>26.57</td><td>24.52</td><td>29.23</td><td>27.690001</td><td>0.0</td><td>4.7</td><td>68.760002</td><td>229.410004</td><td>26.66</td></tr><tr><td>&quot;CATMS33B9C5&quot;</td><td>2004-01-09</td><td>&quot;Region VIII&quot;</td><td>&quot;PH080000000&quot;</td><td>&quot;Leyte&quot;</td><td>&quot;PH083700000&quot;</td><td>&quot;Tacloban City&quot;</td><td>&quot;PH083747000&quot;</td><td>&quot;Barangay 94-A&quot;</td><td>&quot;PH083747155&quot;</td><td>26.57</td><td>24.52</td><td>29.23</td><td>27.690001</td><td>0.0</td><td>4.7</td><td>68.760002</td><td>229.410004</td><td>26.66</td></tr><tr><td>&quot;CATMS340F60&quot;</td><td>2004-01-09</td><td>&quot;Region IX&quot;</td><td>&quot;PH090000000&quot;</td><td>&quot;Zamboanga del Sur&quot;</td><td>&quot;PH097300000&quot;</td><td>&quot;Zamboanga City&quot;</td><td>&quot;PH097332000&quot;</td><td>&quot;Baliwasan&quot;</td><td>&quot;PH097332004&quot;</td><td>25.940001</td><td>24.940001</td><td>27.370001</td><td>27.23</td><td>0.0</td><td>3.05</td><td>78.620003</td><td>264.859985</td><td>30.82</td></tr><tr><td>&quot;CATMS33D64E&quot;</td><td>2004-01-09</td><td>&quot;Region IX&quot;</td><td>&quot;PH090000000&quot;</td><td>&quot;Zamboanga del Sur&quot;</td><td>&quot;PH097300000&quot;</td><td>&quot;Zamboanga City&quot;</td><td>&quot;PH097332000&quot;</td><td>&quot;Arena Blanco&quot;</td><td>&quot;PH097332001&quot;</td><td>26.25</td><td>25.67</td><td>26.950001</td><td>27.91</td><td>0.0</td><td>3.19</td><td>77.379997</td><td>266.200012</td><td>30.77</td></tr><tr><td>&hellip;</td><td>&hellip;</td><td>&hellip;</td><td>&hellip;</td><td>&hellip;</td><td>&hellip;</td><td>&hellip;</td><td>&hellip;</td><td>&hellip;</td><td>&hellip;</td><td>&hellip;</td><td>&hellip;</td><td>&hellip;</td><td>&hellip;</td><td>&hellip;</td><td>&hellip;</td><td>&hellip;</td><td>&hellip;</td><td>&hellip;</td></tr><tr><td>&quot;CATMS369FAF&quot;</td><td>2004-01-09</td><td>&quot;Region IX&quot;</td><td>&quot;PH090000000&quot;</td><td>&quot;Zamboanga del Sur&quot;</td><td>&quot;PH097300000&quot;</td><td>&quot;Zamboanga City&quot;</td><td>&quot;PH097332000&quot;</td><td>&quot;La Paz&quot;</td><td>&quot;PH097332032&quot;</td><td>25.860001</td><td>24.51</td><td>27.73</td><td>27.120001</td><td>0.0</td><td>3.37</td><td>78.129997</td><td>265.309998</td><td>30.780001</td></tr><tr><td>&quot;CATMS34D71F&quot;</td><td>2004-01-09</td><td>&quot;Region IX&quot;</td><td>&quot;PH090000000&quot;</td><td>&quot;Zamboanga del Sur&quot;</td><td>&quot;PH097300000&quot;</td><td>&quot;Zamboanga City&quot;</td><td>&quot;PH097332000&quot;</td><td>&quot;Cabaluay&quot;</td><td>&quot;PH097332015&quot;</td><td>26.25</td><td>25.67</td><td>26.950001</td><td>27.91</td><td>0.0</td><td>3.19</td><td>77.379997</td><td>266.200012</td><td>30.77</td></tr><tr><td>&quot;CATMS33F2D7&quot;</td><td>2004-01-09</td><td>&quot;Region IX&quot;</td><td>&quot;PH090000000&quot;</td><td>&quot;Zamboanga del Sur&quot;</td><td>&quot;PH097300000&quot;</td><td>&quot;Zamboanga City&quot;</td><td>&quot;PH097332000&quot;</td><td>&quot;Ayala&quot;</td><td>&quot;PH097332002&quot;</td><td>25.940001</td><td>24.940001</td><td>27.370001</td><td>27.23</td><td>0.0</td><td>3.05</td><td>78.620003</td><td>264.859985</td><td>30.82</td></tr><tr><td>&quot;CATMS3380B3&quot;</td><td>2004-01-09</td><td>&quot;Region VIII&quot;</td><td>&quot;PH080000000&quot;</td><td>&quot;Leyte&quot;</td><td>&quot;PH083700000&quot;</td><td>&quot;Tacloban City&quot;</td><td>&quot;PH083747000&quot;</td><td>&quot;Barangay 8-A&quot;</td><td>&quot;PH083747153&quot;</td><td>26.57</td><td>24.52</td><td>29.23</td><td>27.690001</td><td>0.0</td><td>4.7</td><td>68.760002</td><td>229.410004</td><td>26.66</td></tr><tr><td>&quot;CATMS3347A1&quot;</td><td>2004-01-09</td><td>&quot;Region VIII&quot;</td><td>&quot;PH080000000&quot;</td><td>&quot;Leyte&quot;</td><td>&quot;PH083700000&quot;</td><td>&quot;Tacloban City&quot;</td><td>&quot;PH083747000&quot;</td><td>&quot;Barangay 83-C (San Jose)&quot;</td><td>&quot;PH083747151&quot;</td><td>26.57</td><td>24.52</td><td>29.23</td><td>27.690001</td><td>0.0</td><td>4.7</td><td>68.760002</td><td>229.410004</td><td>26.66</td></tr></tbody></table></div>"
      ],
      "text/plain": [
       "shape: (50, 19)\n",
       "┌───────────┬───────────┬───────────┬───────────┬───┬───────────┬───────────┬───────────┬──────────┐\n",
       "│ uuid      ┆ date      ┆ adm1_en   ┆ adm1_pcod ┆ … ┆ wind_spee ┆ rh        ┆ solar_rad ┆ uv_rad   │\n",
       "│ ---       ┆ ---       ┆ ---       ┆ e         ┆   ┆ d         ┆ ---       ┆ ---       ┆ ---      │\n",
       "│ str       ┆ date      ┆ str       ┆ ---       ┆   ┆ ---       ┆ f32       ┆ f32       ┆ f32      │\n",
       "│           ┆           ┆           ┆ str       ┆   ┆ f32       ┆           ┆           ┆          │\n",
       "╞═══════════╪═══════════╪═══════════╪═══════════╪═══╪═══════════╪═══════════╪═══════════╪══════════╡\n",
       "│ CATMS339D ┆ 2004-01-0 ┆ Region    ┆ PH0800000 ┆ … ┆ 4.7       ┆ 68.760002 ┆ 229.41000 ┆ 26.66    │\n",
       "│ 3C        ┆ 9         ┆ VIII      ┆ 00        ┆   ┆           ┆           ┆ 4         ┆          │\n",
       "│ CATMS3364 ┆ 2004-01-0 ┆ Region    ┆ PH0800000 ┆ … ┆ 4.7       ┆ 68.760002 ┆ 229.41000 ┆ 26.66    │\n",
       "│ 2A        ┆ 9         ┆ VIII      ┆ 00        ┆   ┆           ┆           ┆ 4         ┆          │\n",
       "│ CATMS33B9 ┆ 2004-01-0 ┆ Region    ┆ PH0800000 ┆ … ┆ 4.7       ┆ 68.760002 ┆ 229.41000 ┆ 26.66    │\n",
       "│ C5        ┆ 9         ┆ VIII      ┆ 00        ┆   ┆           ┆           ┆ 4         ┆          │\n",
       "│ CATMS340F ┆ 2004-01-0 ┆ Region IX ┆ PH0900000 ┆ … ┆ 3.05      ┆ 78.620003 ┆ 264.85998 ┆ 30.82    │\n",
       "│ 60        ┆ 9         ┆           ┆ 00        ┆   ┆           ┆           ┆ 5         ┆          │\n",
       "│ CATMS33D6 ┆ 2004-01-0 ┆ Region IX ┆ PH0900000 ┆ … ┆ 3.19      ┆ 77.379997 ┆ 266.20001 ┆ 30.77    │\n",
       "│ 4E        ┆ 9         ┆           ┆ 00        ┆   ┆           ┆           ┆ 2         ┆          │\n",
       "│ …         ┆ …         ┆ …         ┆ …         ┆ … ┆ …         ┆ …         ┆ …         ┆ …        │\n",
       "│ CATMS369F ┆ 2004-01-0 ┆ Region IX ┆ PH0900000 ┆ … ┆ 3.37      ┆ 78.129997 ┆ 265.30999 ┆ 30.78000 │\n",
       "│ AF        ┆ 9         ┆           ┆ 00        ┆   ┆           ┆           ┆ 8         ┆ 1        │\n",
       "│ CATMS34D7 ┆ 2004-01-0 ┆ Region IX ┆ PH0900000 ┆ … ┆ 3.19      ┆ 77.379997 ┆ 266.20001 ┆ 30.77    │\n",
       "│ 1F        ┆ 9         ┆           ┆ 00        ┆   ┆           ┆           ┆ 2         ┆          │\n",
       "│ CATMS33F2 ┆ 2004-01-0 ┆ Region IX ┆ PH0900000 ┆ … ┆ 3.05      ┆ 78.620003 ┆ 264.85998 ┆ 30.82    │\n",
       "│ D7        ┆ 9         ┆           ┆ 00        ┆   ┆           ┆           ┆ 5         ┆          │\n",
       "│ CATMS3380 ┆ 2004-01-0 ┆ Region    ┆ PH0800000 ┆ … ┆ 4.7       ┆ 68.760002 ┆ 229.41000 ┆ 26.66    │\n",
       "│ B3        ┆ 9         ┆ VIII      ┆ 00        ┆   ┆           ┆           ┆ 4         ┆          │\n",
       "│ CATMS3347 ┆ 2004-01-0 ┆ Region    ┆ PH0800000 ┆ … ┆ 4.7       ┆ 68.760002 ┆ 229.41000 ┆ 26.66    │\n",
       "│ A1        ┆ 9         ┆ VIII      ┆ 00        ┆   ┆           ┆           ┆ 4         ┆          │\n",
       "└───────────┴───────────┴───────────┴───────────┴───┴───────────┴───────────┴───────────┴──────────┘"
      ]
     },
     "execution_count": 18,
     "metadata": {},
     "output_type": "execute_result"
    }
   ],
   "source": [
    "# sample query\n",
    "conn.sql(\"\"\"\n",
    "    SELECT\n",
    "        CAST(uuid AS VARCHAR) AS uuid,\n",
    "        CAST(date AS DATE) AS date,\n",
    "        CAST(adm1_en AS VARCHAR) AS adm1_en,\n",
    "        CAST(adm1_pcode AS VARCHAR) AS adm1_pcode,\n",
    "        CAST(adm2_en AS VARCHAR) AS adm2_en,\n",
    "        CAST(adm2_pcode AS VARCHAR) AS adm2_pcode,\n",
    "        CAST(adm3_en AS VARCHAR) AS adm3_en,\n",
    "        CAST(adm3_pcode AS VARCHAR) AS adm3_pcode,\n",
    "        CAST(adm4_en AS VARCHAR) AS adm4_en,\n",
    "        CAST(adm4_pcode AS VARCHAR) AS adm4_pcode,\n",
    "        COALESCE(CAST(tave AS FLOAT), 0) AS tave,\n",
    "        COALESCE(CAST(tmin AS FLOAT), 0) AS tmin,\n",
    "        COALESCE(CAST(tmax AS FLOAT), 0) AS tmax,\n",
    "        COALESCE(CAST(heat_index AS FLOAT), 0) AS heat_index,\n",
    "        COALESCE(CAST(pr AS FLOAT), 0) AS pr,\n",
    "        COALESCE(CAST(wind_speed AS FLOAT), 0) AS wind_speed,\n",
    "        COALESCE(CAST(rh AS FLOAT), 0) AS rh,\n",
    "        COALESCE(CAST(solar_rad AS FLOAT), 0) AS solar_rad,\n",
    "        COALESCE(CAST(uv_rad AS FLOAT), 0) AS uv_rad\n",
    "    FROM public.project_cchain_climate_atmosphere_raw\n",
    "    ORDER BY pr ASC\n",
    "    LIMIT 50;\n",
    "    \"\"\").pl()"
   ]
  },
  {
   "cell_type": "code",
   "execution_count": 5,
   "id": "7423693e-a709-4abe-8437-328ada2fcd7f",
   "metadata": {},
   "outputs": [
    {
     "data": {
      "application/vnd.jupyter.widget-view+json": {
       "model_id": "ce7b6b7254614e7ab9067a8b0f430070",
       "version_major": 2,
       "version_minor": 0
      },
      "text/plain": [
       "FloatProgress(value=0.0, layout=Layout(width='auto'), style=ProgressStyle(bar_color='black'))"
      ]
     },
     "metadata": {},
     "output_type": "display_data"
    },
    {
     "data": {
      "text/html": [
       "<div><style>\n",
       ".dataframe > thead > tr,\n",
       ".dataframe > tbody > tr {\n",
       "  text-align: right;\n",
       "  white-space: pre-wrap;\n",
       "}\n",
       "</style>\n",
       "<small>shape: (50, 19)</small><table border=\"1\" class=\"dataframe\"><thead><tr><th>uuid</th><th>date</th><th>adm1_en</th><th>adm1_pcode</th><th>adm2_en</th><th>adm2_pcode</th><th>adm3_en</th><th>adm3_pcode</th><th>adm4_en</th><th>adm4_pcode</th><th>tave</th><th>tmin</th><th>tmax</th><th>heat_index</th><th>pr</th><th>wind_speed</th><th>rh</th><th>solar_rad</th><th>uv_rad</th></tr><tr><td>str</td><td>str</td><td>str</td><td>str</td><td>str</td><td>str</td><td>str</td><td>str</td><td>str</td><td>str</td><td>str</td><td>str</td><td>str</td><td>str</td><td>str</td><td>str</td><td>str</td><td>str</td><td>str</td></tr></thead><tbody><tr><td>&quot;CATMS0592C2&quot;</td><td>&quot;2003-01-01&quot;</td><td>&quot;Region V&quot;</td><td>&quot;PH050000000&quot;</td><td>&quot;Albay&quot;</td><td>&quot;PH050500000&quot;</td><td>&quot;Legazpi City&quot;</td><td>&quot;PH050506000&quot;</td><td>&quot;Bgy. 47 - Arimbay&quot;</td><td>&quot;PH050506001&quot;</td><td>&quot;26.0&quot;</td><td>&quot;23.76&quot;</td><td>&quot;28.66&quot;</td><td>&quot;27.95&quot;</td><td>&quot;14.03&quot;</td><td>&quot;4.16&quot;</td><td>&quot;83.32&quot;</td><td>&quot;144.71&quot;</td><td>&quot;17.33&quot;</td></tr><tr><td>&quot;CATMS05AF4B&quot;</td><td>&quot;2003-01-01&quot;</td><td>&quot;Region V&quot;</td><td>&quot;PH050000000&quot;</td><td>&quot;Albay&quot;</td><td>&quot;PH050500000&quot;</td><td>&quot;Legazpi City&quot;</td><td>&quot;PH050506000&quot;</td><td>&quot;Bgy. 64 - Bagacay (Bgy. 41 Bag…</td><td>&quot;PH050506002&quot;</td><td>&quot;26.21&quot;</td><td>&quot;24.46&quot;</td><td>&quot;28.24&quot;</td><td>&quot;28.15&quot;</td><td>&quot;10.63&quot;</td><td>&quot;5.2&quot;</td><td>&quot;82.01&quot;</td><td>&quot;154.44&quot;</td><td>&quot;18.02&quot;</td></tr><tr><td>&quot;CATMS05CBD4&quot;</td><td>&quot;2003-01-01&quot;</td><td>&quot;Region V&quot;</td><td>&quot;PH050000000&quot;</td><td>&quot;Albay&quot;</td><td>&quot;PH050500000&quot;</td><td>&quot;Legazpi City&quot;</td><td>&quot;PH050506000&quot;</td><td>&quot;Bgy. 48 - Bagong Abre (Bgy. 42…</td><td>&quot;PH050506003&quot;</td><td>&quot;26.0&quot;</td><td>&quot;23.76&quot;</td><td>&quot;28.66&quot;</td><td>&quot;27.95&quot;</td><td>&quot;14.24&quot;</td><td>&quot;4.16&quot;</td><td>&quot;83.32&quot;</td><td>&quot;144.71&quot;</td><td>&quot;17.33&quot;</td></tr><tr><td>&quot;CATMS05E85D&quot;</td><td>&quot;2003-01-01&quot;</td><td>&quot;Region V&quot;</td><td>&quot;PH050000000&quot;</td><td>&quot;Albay&quot;</td><td>&quot;PH050500000&quot;</td><td>&quot;Legazpi City&quot;</td><td>&quot;PH050506000&quot;</td><td>&quot;Bgy. 66 - Banquerohan (Bgy. 43…</td><td>&quot;PH050506004&quot;</td><td>&quot;26.21&quot;</td><td>&quot;24.46&quot;</td><td>&quot;28.24&quot;</td><td>&quot;28.15&quot;</td><td>&quot;10.76&quot;</td><td>&quot;5.2&quot;</td><td>&quot;82.01&quot;</td><td>&quot;154.44&quot;</td><td>&quot;18.02&quot;</td></tr><tr><td>&quot;CATMS0604E6&quot;</td><td>&quot;2003-01-01&quot;</td><td>&quot;Region V&quot;</td><td>&quot;PH050000000&quot;</td><td>&quot;Albay&quot;</td><td>&quot;PH050500000&quot;</td><td>&quot;Legazpi City&quot;</td><td>&quot;PH050506000&quot;</td><td>&quot;Bgy. 1 - Em&#x27;s Barrio (Pob.)&quot;</td><td>&quot;PH050506005&quot;</td><td>&quot;26.0&quot;</td><td>&quot;23.76&quot;</td><td>&quot;28.66&quot;</td><td>&quot;27.95&quot;</td><td>&quot;12.72&quot;</td><td>&quot;4.16&quot;</td><td>&quot;83.32&quot;</td><td>&quot;144.71&quot;</td><td>&quot;17.33&quot;</td></tr><tr><td>&hellip;</td><td>&hellip;</td><td>&hellip;</td><td>&hellip;</td><td>&hellip;</td><td>&hellip;</td><td>&hellip;</td><td>&hellip;</td><td>&hellip;</td><td>&hellip;</td><td>&hellip;</td><td>&hellip;</td><td>&hellip;</td><td>&hellip;</td><td>&hellip;</td><td>&hellip;</td><td>&hellip;</td><td>&hellip;</td><td>&hellip;</td></tr><tr><td>&quot;CATMS0A96D7&quot;</td><td>&quot;2003-01-01&quot;</td><td>&quot;Region V&quot;</td><td>&quot;PH050000000&quot;</td><td>&quot;Albay&quot;</td><td>&quot;PH050500000&quot;</td><td>&quot;Legazpi City&quot;</td><td>&quot;PH050506000&quot;</td><td>&quot;Bgy. 70 - Cagbacong (Bgy. 50)&quot;</td><td>&quot;PH050506050&quot;</td><td>&quot;26.21&quot;</td><td>&quot;24.46&quot;</td><td>&quot;28.24&quot;</td><td>&quot;28.15&quot;</td><td>&quot;10.72&quot;</td><td>&quot;5.2&quot;</td><td>&quot;82.01&quot;</td><td>&quot;154.44&quot;</td><td>&quot;18.02&quot;</td></tr><tr><td>&quot;CATMS0AB360&quot;</td><td>&quot;2003-01-01&quot;</td><td>&quot;Region V&quot;</td><td>&quot;PH050000000&quot;</td><td>&quot;Albay&quot;</td><td>&quot;PH050500000&quot;</td><td>&quot;Legazpi City&quot;</td><td>&quot;PH050506000&quot;</td><td>&quot;Bgy. 40 - Cruzada (Bgy. 52)&quot;</td><td>&quot;PH050506051&quot;</td><td>&quot;26.0&quot;</td><td>&quot;23.76&quot;</td><td>&quot;28.66&quot;</td><td>&quot;27.95&quot;</td><td>&quot;12.72&quot;</td><td>&quot;4.16&quot;</td><td>&quot;83.32&quot;</td><td>&quot;144.71&quot;</td><td>&quot;17.33&quot;</td></tr><tr><td>&quot;CATMS0ACFE9&quot;</td><td>&quot;2003-01-01&quot;</td><td>&quot;Region V&quot;</td><td>&quot;PH050000000&quot;</td><td>&quot;Albay&quot;</td><td>&quot;PH050500000&quot;</td><td>&quot;Legazpi City&quot;</td><td>&quot;PH050506000&quot;</td><td>&quot;Bgy. 57 - Dap-dap (Bgy. 69)&quot;</td><td>&quot;PH050506052&quot;</td><td>&quot;26.0&quot;</td><td>&quot;23.76&quot;</td><td>&quot;28.66&quot;</td><td>&quot;27.95&quot;</td><td>&quot;11.16&quot;</td><td>&quot;4.16&quot;</td><td>&quot;83.32&quot;</td><td>&quot;144.71&quot;</td><td>&quot;17.33&quot;</td></tr><tr><td>&quot;CATMS0AEC72&quot;</td><td>&quot;2003-01-01&quot;</td><td>&quot;Region V&quot;</td><td>&quot;PH050000000&quot;</td><td>&quot;Albay&quot;</td><td>&quot;PH050500000&quot;</td><td>&quot;Legazpi City&quot;</td><td>&quot;PH050506000&quot;</td><td>&quot;Bgy. 45 - Dita (Bgy. 51)&quot;</td><td>&quot;PH050506053&quot;</td><td>&quot;26.0&quot;</td><td>&quot;23.76&quot;</td><td>&quot;28.66&quot;</td><td>&quot;27.95&quot;</td><td>&quot;14.24&quot;</td><td>&quot;4.16&quot;</td><td>&quot;83.32&quot;</td><td>&quot;144.71&quot;</td><td>&quot;17.33&quot;</td></tr><tr><td>&quot;CATMS0B08FB&quot;</td><td>&quot;2003-01-01&quot;</td><td>&quot;Region V&quot;</td><td>&quot;PH050000000&quot;</td><td>&quot;Albay&quot;</td><td>&quot;PH050500000&quot;</td><td>&quot;Legazpi City&quot;</td><td>&quot;PH050506000&quot;</td><td>&quot;Bgy. 55 - Estanza (Bgy. 53)&quot;</td><td>&quot;PH050506054&quot;</td><td>&quot;26.11&quot;</td><td>&quot;24.11&quot;</td><td>&quot;28.45&quot;</td><td>&quot;28.05&quot;</td><td>&quot;11.2&quot;</td><td>&quot;4.67&quot;</td><td>&quot;82.67&quot;</td><td>&quot;149.57&quot;</td><td>&quot;17.67&quot;</td></tr></tbody></table></div>"
      ],
      "text/plain": [
       "shape: (50, 19)\n",
       "┌─────────────┬────────────┬──────────┬─────────────┬───┬────────────┬───────┬───────────┬────────┐\n",
       "│ uuid        ┆ date       ┆ adm1_en  ┆ adm1_pcode  ┆ … ┆ wind_speed ┆ rh    ┆ solar_rad ┆ uv_rad │\n",
       "│ ---         ┆ ---        ┆ ---      ┆ ---         ┆   ┆ ---        ┆ ---   ┆ ---       ┆ ---    │\n",
       "│ str         ┆ str        ┆ str      ┆ str         ┆   ┆ str        ┆ str   ┆ str       ┆ str    │\n",
       "╞═════════════╪════════════╪══════════╪═════════════╪═══╪════════════╪═══════╪═══════════╪════════╡\n",
       "│ CATMS0592C2 ┆ 2003-01-01 ┆ Region V ┆ PH050000000 ┆ … ┆ 4.16       ┆ 83.32 ┆ 144.71    ┆ 17.33  │\n",
       "│ CATMS05AF4B ┆ 2003-01-01 ┆ Region V ┆ PH050000000 ┆ … ┆ 5.2        ┆ 82.01 ┆ 154.44    ┆ 18.02  │\n",
       "│ CATMS05CBD4 ┆ 2003-01-01 ┆ Region V ┆ PH050000000 ┆ … ┆ 4.16       ┆ 83.32 ┆ 144.71    ┆ 17.33  │\n",
       "│ CATMS05E85D ┆ 2003-01-01 ┆ Region V ┆ PH050000000 ┆ … ┆ 5.2        ┆ 82.01 ┆ 154.44    ┆ 18.02  │\n",
       "│ CATMS0604E6 ┆ 2003-01-01 ┆ Region V ┆ PH050000000 ┆ … ┆ 4.16       ┆ 83.32 ┆ 144.71    ┆ 17.33  │\n",
       "│ …           ┆ …          ┆ …        ┆ …           ┆ … ┆ …          ┆ …     ┆ …         ┆ …      │\n",
       "│ CATMS0A96D7 ┆ 2003-01-01 ┆ Region V ┆ PH050000000 ┆ … ┆ 5.2        ┆ 82.01 ┆ 154.44    ┆ 18.02  │\n",
       "│ CATMS0AB360 ┆ 2003-01-01 ┆ Region V ┆ PH050000000 ┆ … ┆ 4.16       ┆ 83.32 ┆ 144.71    ┆ 17.33  │\n",
       "│ CATMS0ACFE9 ┆ 2003-01-01 ┆ Region V ┆ PH050000000 ┆ … ┆ 4.16       ┆ 83.32 ┆ 144.71    ┆ 17.33  │\n",
       "│ CATMS0AEC72 ┆ 2003-01-01 ┆ Region V ┆ PH050000000 ┆ … ┆ 4.16       ┆ 83.32 ┆ 144.71    ┆ 17.33  │\n",
       "│ CATMS0B08FB ┆ 2003-01-01 ┆ Region V ┆ PH050000000 ┆ … ┆ 4.67       ┆ 82.67 ┆ 149.57    ┆ 17.67  │\n",
       "└─────────────┴────────────┴──────────┴─────────────┴───┴────────────┴───────┴───────────┴────────┘"
      ]
     },
     "execution_count": 5,
     "metadata": {},
     "output_type": "execute_result"
    }
   ],
   "source": [
    "conn.sql(\"\"\"\n",
    "    SELECT *\n",
    "    FROM public.project_cchain_climate_atmosphere_raw\n",
    "    WHERE pr != 0\n",
    "    LIMIT 50\n",
    "    \"\"\").pl()"
   ]
  },
  {
   "cell_type": "code",
   "execution_count": 5,
   "id": "f1430381-3fce-4172-9037-2693a91841de",
   "metadata": {},
   "outputs": [
    {
     "data": {
      "application/vnd.jupyter.widget-view+json": {
       "model_id": "b4714892d82e47b5b47f7c4bd52e8a56",
       "version_major": 2,
       "version_minor": 0
      },
      "text/plain": [
       "FloatProgress(value=0.0, layout=Layout(width='auto'), style=ProgressStyle(bar_color='black'))"
      ]
     },
     "metadata": {},
     "output_type": "display_data"
    },
    {
     "data": {
      "text/html": [
       "<div><style>\n",
       ".dataframe > thead > tr,\n",
       ".dataframe > tbody > tr {\n",
       "  text-align: right;\n",
       "  white-space: pre-wrap;\n",
       "}\n",
       "</style>\n",
       "<small>shape: (1_775_027, 11)</small><table border=\"1\" class=\"dataframe\"><thead><tr><th>uuid</th><th>date</th><th>adm1_en</th><th>adm1_pcode</th><th>adm2_en</th><th>adm2_pcode</th><th>adm3_en</th><th>adm3_pcode</th><th>disease_icd10_code</th><th>disease_common_name</th><th>case_total</th></tr><tr><td>str</td><td>date</td><td>str</td><td>str</td><td>str</td><td>str</td><td>str</td><td>str</td><td>str</td><td>str</td><td>i32</td></tr></thead><tbody><tr><td>&quot;DPSRT006DB0&quot;</td><td>2008-01-07</td><td>&quot;Region I&quot;</td><td>&quot;PH010000000&quot;</td><td>&quot;Pangasinan&quot;</td><td>&quot;PH015500000&quot;</td><td>&quot;Dagupan City&quot;</td><td>&quot;PH015518000&quot;</td><td>&quot;A90-A91&quot;</td><td>&quot;DENGUE FEVER&quot;</td><td>9</td></tr><tr><td>&quot;DPSRT006DB0&quot;</td><td>2008-01-07</td><td>&quot;Region I&quot;</td><td>&quot;PH010000000&quot;</td><td>&quot;Pangasinan&quot;</td><td>&quot;PH015500000&quot;</td><td>&quot;Dagupan City&quot;</td><td>&quot;PH015518000&quot;</td><td>&quot;A90-A91&quot;</td><td>&quot;DENGUE FEVER&quot;</td><td>9</td></tr><tr><td>&quot;DPSRT006DB0&quot;</td><td>2008-01-07</td><td>&quot;Region I&quot;</td><td>&quot;PH010000000&quot;</td><td>&quot;Pangasinan&quot;</td><td>&quot;PH015500000&quot;</td><td>&quot;Dagupan City&quot;</td><td>&quot;PH015518000&quot;</td><td>&quot;A90-A91&quot;</td><td>&quot;DENGUE FEVER&quot;</td><td>9</td></tr><tr><td>&quot;DPSRT006DB0&quot;</td><td>2008-01-07</td><td>&quot;Region I&quot;</td><td>&quot;PH010000000&quot;</td><td>&quot;Pangasinan&quot;</td><td>&quot;PH015500000&quot;</td><td>&quot;Dagupan City&quot;</td><td>&quot;PH015518000&quot;</td><td>&quot;A90-A91&quot;</td><td>&quot;DENGUE FEVER&quot;</td><td>9</td></tr><tr><td>&quot;DPSRT006DB0&quot;</td><td>2008-01-07</td><td>&quot;Region I&quot;</td><td>&quot;PH010000000&quot;</td><td>&quot;Pangasinan&quot;</td><td>&quot;PH015500000&quot;</td><td>&quot;Dagupan City&quot;</td><td>&quot;PH015518000&quot;</td><td>&quot;A90-A91&quot;</td><td>&quot;DENGUE FEVER&quot;</td><td>9</td></tr><tr><td>&hellip;</td><td>&hellip;</td><td>&hellip;</td><td>&hellip;</td><td>&hellip;</td><td>&hellip;</td><td>&hellip;</td><td>&hellip;</td><td>&hellip;</td><td>&hellip;</td><td>&hellip;</td></tr><tr><td>&quot;DPSRT00923E&quot;</td><td>2022-12-26</td><td>&quot;National Capital Region&quot;</td><td>&quot;PH130000000&quot;</td><td>&quot;NCR, Fourth District&quot;</td><td>&quot;PH137600000&quot;</td><td>&quot;City of Muntinlupa&quot;</td><td>&quot;PH137603000&quot;</td><td>&quot;A90-A91&quot;</td><td>&quot;DENGUE FEVER&quot;</td><td>5</td></tr><tr><td>&quot;DPSRT00923E&quot;</td><td>2022-12-26</td><td>&quot;National Capital Region&quot;</td><td>&quot;PH130000000&quot;</td><td>&quot;NCR, Fourth District&quot;</td><td>&quot;PH137600000&quot;</td><td>&quot;City of Muntinlupa&quot;</td><td>&quot;PH137603000&quot;</td><td>&quot;A90-A91&quot;</td><td>&quot;DENGUE FEVER&quot;</td><td>5</td></tr><tr><td>&quot;DPSRT00923E&quot;</td><td>2022-12-26</td><td>&quot;National Capital Region&quot;</td><td>&quot;PH130000000&quot;</td><td>&quot;NCR, Fourth District&quot;</td><td>&quot;PH137600000&quot;</td><td>&quot;City of Muntinlupa&quot;</td><td>&quot;PH137603000&quot;</td><td>&quot;A90-A91&quot;</td><td>&quot;DENGUE FEVER&quot;</td><td>5</td></tr><tr><td>&quot;DPSRT00923E&quot;</td><td>2022-12-26</td><td>&quot;National Capital Region&quot;</td><td>&quot;PH130000000&quot;</td><td>&quot;NCR, Fourth District&quot;</td><td>&quot;PH137600000&quot;</td><td>&quot;City of Muntinlupa&quot;</td><td>&quot;PH137603000&quot;</td><td>&quot;A90-A91&quot;</td><td>&quot;DENGUE FEVER&quot;</td><td>5</td></tr><tr><td>&quot;DPSRT00923E&quot;</td><td>2022-12-26</td><td>&quot;National Capital Region&quot;</td><td>&quot;PH130000000&quot;</td><td>&quot;NCR, Fourth District&quot;</td><td>&quot;PH137600000&quot;</td><td>&quot;City of Muntinlupa&quot;</td><td>&quot;PH137603000&quot;</td><td>&quot;A90-A91&quot;</td><td>&quot;DENGUE FEVER&quot;</td><td>5</td></tr></tbody></table></div>"
      ],
      "text/plain": [
       "shape: (1_775_027, 11)\n",
       "┌───────────┬───────────┬───────────┬───────────┬───┬───────────┬───────────┬───────────┬──────────┐\n",
       "│ uuid      ┆ date      ┆ adm1_en   ┆ adm1_pcod ┆ … ┆ adm3_pcod ┆ disease_i ┆ disease_c ┆ case_tot │\n",
       "│ ---       ┆ ---       ┆ ---       ┆ e         ┆   ┆ e         ┆ cd10_code ┆ ommon_nam ┆ al       │\n",
       "│ str       ┆ date      ┆ str       ┆ ---       ┆   ┆ ---       ┆ ---       ┆ e         ┆ ---      │\n",
       "│           ┆           ┆           ┆ str       ┆   ┆ str       ┆ str       ┆ ---       ┆ i32      │\n",
       "│           ┆           ┆           ┆           ┆   ┆           ┆           ┆ str       ┆          │\n",
       "╞═══════════╪═══════════╪═══════════╪═══════════╪═══╪═══════════╪═══════════╪═══════════╪══════════╡\n",
       "│ DPSRT006D ┆ 2008-01-0 ┆ Region I  ┆ PH0100000 ┆ … ┆ PH0155180 ┆ A90-A91   ┆ DENGUE    ┆ 9        │\n",
       "│ B0        ┆ 7         ┆           ┆ 00        ┆   ┆ 00        ┆           ┆ FEVER     ┆          │\n",
       "│ DPSRT006D ┆ 2008-01-0 ┆ Region I  ┆ PH0100000 ┆ … ┆ PH0155180 ┆ A90-A91   ┆ DENGUE    ┆ 9        │\n",
       "│ B0        ┆ 7         ┆           ┆ 00        ┆   ┆ 00        ┆           ┆ FEVER     ┆          │\n",
       "│ DPSRT006D ┆ 2008-01-0 ┆ Region I  ┆ PH0100000 ┆ … ┆ PH0155180 ┆ A90-A91   ┆ DENGUE    ┆ 9        │\n",
       "│ B0        ┆ 7         ┆           ┆ 00        ┆   ┆ 00        ┆           ┆ FEVER     ┆          │\n",
       "│ DPSRT006D ┆ 2008-01-0 ┆ Region I  ┆ PH0100000 ┆ … ┆ PH0155180 ┆ A90-A91   ┆ DENGUE    ┆ 9        │\n",
       "│ B0        ┆ 7         ┆           ┆ 00        ┆   ┆ 00        ┆           ┆ FEVER     ┆          │\n",
       "│ DPSRT006D ┆ 2008-01-0 ┆ Region I  ┆ PH0100000 ┆ … ┆ PH0155180 ┆ A90-A91   ┆ DENGUE    ┆ 9        │\n",
       "│ B0        ┆ 7         ┆           ┆ 00        ┆   ┆ 00        ┆           ┆ FEVER     ┆          │\n",
       "│ …         ┆ …         ┆ …         ┆ …         ┆ … ┆ …         ┆ …         ┆ …         ┆ …        │\n",
       "│ DPSRT0092 ┆ 2022-12-2 ┆ National  ┆ PH1300000 ┆ … ┆ PH1376030 ┆ A90-A91   ┆ DENGUE    ┆ 5        │\n",
       "│ 3E        ┆ 6         ┆ Capital   ┆ 00        ┆   ┆ 00        ┆           ┆ FEVER     ┆          │\n",
       "│           ┆           ┆ Region    ┆           ┆   ┆           ┆           ┆           ┆          │\n",
       "│ DPSRT0092 ┆ 2022-12-2 ┆ National  ┆ PH1300000 ┆ … ┆ PH1376030 ┆ A90-A91   ┆ DENGUE    ┆ 5        │\n",
       "│ 3E        ┆ 6         ┆ Capital   ┆ 00        ┆   ┆ 00        ┆           ┆ FEVER     ┆          │\n",
       "│           ┆           ┆ Region    ┆           ┆   ┆           ┆           ┆           ┆          │\n",
       "│ DPSRT0092 ┆ 2022-12-2 ┆ National  ┆ PH1300000 ┆ … ┆ PH1376030 ┆ A90-A91   ┆ DENGUE    ┆ 5        │\n",
       "│ 3E        ┆ 6         ┆ Capital   ┆ 00        ┆   ┆ 00        ┆           ┆ FEVER     ┆          │\n",
       "│           ┆           ┆ Region    ┆           ┆   ┆           ┆           ┆           ┆          │\n",
       "│ DPSRT0092 ┆ 2022-12-2 ┆ National  ┆ PH1300000 ┆ … ┆ PH1376030 ┆ A90-A91   ┆ DENGUE    ┆ 5        │\n",
       "│ 3E        ┆ 6         ┆ Capital   ┆ 00        ┆   ┆ 00        ┆           ┆ FEVER     ┆          │\n",
       "│           ┆           ┆ Region    ┆           ┆   ┆           ┆           ┆           ┆          │\n",
       "│ DPSRT0092 ┆ 2022-12-2 ┆ National  ┆ PH1300000 ┆ … ┆ PH1376030 ┆ A90-A91   ┆ DENGUE    ┆ 5        │\n",
       "│ 3E        ┆ 6         ┆ Capital   ┆ 00        ┆   ┆ 00        ┆           ┆ FEVER     ┆          │\n",
       "│           ┆           ┆ Region    ┆           ┆   ┆           ┆           ┆           ┆          │\n",
       "└───────────┴───────────┴───────────┴───────────┴───┴───────────┴───────────┴───────────┴──────────┘"
      ]
     },
     "execution_count": 5,
     "metadata": {},
     "output_type": "execute_result"
    }
   ],
   "source": [
    "# sample query\n",
    "conn.sql(\"\"\"\n",
    "    SELECT\n",
    "        CAST(uuid AS VARCHAR) AS uuid,\n",
    "        CAST(date AS DATE) AS date,\n",
    "        CAST(adm1_en AS VARCHAR) AS adm1_en,\n",
    "        CAST(adm1_pcode AS VARCHAR) AS adm1_pcode,\n",
    "        CAST(adm2_en AS VARCHAR) AS adm2_en,\n",
    "        CAST(adm2_pcode AS VARCHAR) AS adm2_pcode,\n",
    "        CAST(adm3_en AS VARCHAR) AS adm3_en,\n",
    "        CAST(adm3_pcode AS VARCHAR) AS adm3_pcode,\n",
    "        CAST(disease_icd10_code AS VARCHAR) AS disease_icd10_code,\n",
    "        CAST(disease_common_name AS VARCHAR) AS disease_common_name,\n",
    "        CAST(case_total AS INT) AS case_total\n",
    "    FROM public.project_cchain_disease_pidsr_totals_raw\n",
    "    WHERE case_total != 0\n",
    "    ORDER BY date, adm3_pcode\n",
    "    \"\"\").pl()"
   ]
  },
  {
   "cell_type": "code",
   "execution_count": null,
   "id": "c0dbe84d-ca8b-4e1b-81db-d495b2c5489f",
   "metadata": {},
   "outputs": [],
   "source": []
  }
 ],
 "metadata": {
  "kernelspec": {
   "display_name": "sandbox",
   "language": "python",
   "name": "python3"
  },
  "language_info": {
   "codemirror_mode": {
    "name": "ipython",
    "version": 3
   },
   "file_extension": ".py",
   "mimetype": "text/x-python",
   "name": "python",
   "nbconvert_exporter": "python",
   "pygments_lexer": "ipython3",
   "version": "3.12.3"
  }
 },
 "nbformat": 4,
 "nbformat_minor": 5
}
