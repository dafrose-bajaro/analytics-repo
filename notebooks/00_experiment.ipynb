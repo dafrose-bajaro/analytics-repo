{
 "cells": [
  {
   "cell_type": "code",
   "execution_count": 1,
   "id": "f4f737e0-175d-4a40-98dc-6595aba188fe",
   "metadata": {},
   "outputs": [],
   "source": [
    "# install duckdb package\n",
    "import duckdb"
   ]
  },
  {
   "cell_type": "code",
   "execution_count": 2,
   "id": "3491772b-a964-4663-9240-e901d8bf0736",
   "metadata": {},
   "outputs": [
    {
     "ename": "IOException",
     "evalue": "IO Error: Cannot open file \"/home/dafrose/analytics-repo/notebooks/./data/lake/database.duckdb\": No such file or directory",
     "output_type": "error",
     "traceback": [
      "\u001b[31m---------------------------------------------------------------------------\u001b[39m",
      "\u001b[31mIOException\u001b[39m                               Traceback (most recent call last)",
      "\u001b[36mCell\u001b[39m\u001b[36m \u001b[39m\u001b[32mIn[2]\u001b[39m\u001b[32m, line 2\u001b[39m\n\u001b[32m      1\u001b[39m \u001b[38;5;66;03m# show all available schemas and tables\u001b[39;00m\n\u001b[32m----> \u001b[39m\u001b[32m2\u001b[39m conn = \u001b[43mduckdb\u001b[49m\u001b[43m.\u001b[49m\u001b[43mconnect\u001b[49m\u001b[43m(\u001b[49m\u001b[33;43m\"\u001b[39;49m\u001b[33;43m./data/lake/database.duckdb\u001b[39;49m\u001b[33;43m\"\u001b[39;49m\u001b[43m)\u001b[49m\n\u001b[32m      3\u001b[39m conn.sql(\u001b[33m\"\"\"\u001b[39m\n\u001b[32m      4\u001b[39m \u001b[33m    SELECT table_schema, table_name\u001b[39m\n\u001b[32m      5\u001b[39m \u001b[33m    FROM information_schema.tables\u001b[39m\n\u001b[32m      6\u001b[39m \u001b[33m    WHERE table_schema NOT IN (\u001b[39m\u001b[33m'\u001b[39m\u001b[33minformation_schema\u001b[39m\u001b[33m'\u001b[39m\u001b[33m, \u001b[39m\u001b[33m'\u001b[39m\u001b[33mpg_catalog\u001b[39m\u001b[33m'\u001b[39m\u001b[33m)\u001b[39m\n\u001b[32m      7\u001b[39m \u001b[33m    ORDER BY table_schema, table_name;\u001b[39m\n\u001b[32m      8\u001b[39m \u001b[33m\"\"\"\u001b[39m).pl()\n",
      "\u001b[31mIOException\u001b[39m: IO Error: Cannot open file \"/home/dafrose/analytics-repo/notebooks/./data/lake/database.duckdb\": No such file or directory"
     ]
    }
   ],
   "source": [
    "# show all available schemas and tables\n",
    "conn = duckdb.connect(\"./data/lake/database.duckdb\")\n",
    "conn.sql(\"\"\"\n",
    "    SELECT table_schema, table_name\n",
    "    FROM information_schema.tables\n",
    "    WHERE table_schema NOT IN ('information_schema', 'pg_catalog')\n",
    "    ORDER BY table_schema, table_name;\n",
    "\"\"\").pl()"
   ]
  },
  {
   "cell_type": "code",
   "execution_count": 6,
   "id": "8e6899b3-6782-42a4-a6cd-e789a05b1912",
   "metadata": {
    "editable": true,
    "slideshow": {
     "slide_type": ""
    },
    "tags": []
   },
   "outputs": [
    {
     "data": {
      "text/html": [
       "<div><style>\n",
       ".dataframe > thead > tr,\n",
       ".dataframe > tbody > tr {\n",
       "  text-align: right;\n",
       "  white-space: pre-wrap;\n",
       "}\n",
       "</style>\n",
       "<small>shape: (50, 7)</small><table border=\"1\" class=\"dataframe\"><thead><tr><th>date</th><th>pm25</th><th>pm10</th><th>o3</th><th>no2</th><th>so2</th><th>co</th></tr><tr><td>str</td><td>str</td><td>str</td><td>str</td><td>str</td><td>str</td><td>str</td></tr></thead><tbody><tr><td>&quot;01-Apr-14&quot;</td><td>null</td><td>&quot;89&quot;</td><td>&quot;12&quot;</td><td>&quot;33&quot;</td><td>&quot;28&quot;</td><td>&quot;15&quot;</td></tr><tr><td>&quot;01-Apr-15&quot;</td><td>null</td><td>&quot;45&quot;</td><td>&quot;48&quot;</td><td>&quot;14&quot;</td><td>&quot;14&quot;</td><td>&quot;9&quot;</td></tr><tr><td>&quot;01-Apr-16&quot;</td><td>&quot;134&quot;</td><td>&quot;72&quot;</td><td>&quot;54&quot;</td><td>&quot;27&quot;</td><td>&quot;1&quot;</td><td>&quot;14&quot;</td></tr><tr><td>&quot;01-Apr-17&quot;</td><td>&quot;145&quot;</td><td>&quot;35&quot;</td><td>&quot;17&quot;</td><td>&quot;5&quot;</td><td>&quot; &quot;</td><td>&quot; &quot;</td></tr><tr><td>&quot;01-Apr-18&quot;</td><td>&quot;135&quot;</td><td>&quot;64&quot;</td><td>&quot;30&quot;</td><td>&quot;6&quot;</td><td>&quot;11&quot;</td><td>&quot; &quot;</td></tr><tr><td>&hellip;</td><td>&hellip;</td><td>&hellip;</td><td>&hellip;</td><td>&hellip;</td><td>&hellip;</td><td>&hellip;</td></tr><tr><td>&quot;01-Jan-14&quot;</td><td>null</td><td>&quot;56&quot;</td><td>&quot;43&quot;</td><td>&quot;20&quot;</td><td>&quot;3&quot;</td><td>&quot;9&quot;</td></tr><tr><td>&quot;01-Jan-15&quot;</td><td>null</td><td>&quot;39&quot;</td><td>&quot;37&quot;</td><td>&quot;15&quot;</td><td>&quot;9&quot;</td><td>&quot;10&quot;</td></tr><tr><td>&quot;01-Jan-17&quot;</td><td>null</td><td>&quot;22&quot;</td><td>&quot;12&quot;</td><td>&quot;4&quot;</td><td>&quot; &quot;</td><td>&quot; &quot;</td></tr><tr><td>&quot;01-Jan-18&quot;</td><td>&quot;84&quot;</td><td>&quot;42&quot;</td><td>&quot;15&quot;</td><td>&quot;8&quot;</td><td>&quot; &quot;</td><td>&quot; &quot;</td></tr><tr><td>&quot;01-Jan-19&quot;</td><td>&quot;88&quot;</td><td>&quot;35&quot;</td><td>&quot;19&quot;</td><td>&quot;7&quot;</td><td>&quot; &quot;</td><td>&quot; &quot;</td></tr></tbody></table></div>"
      ],
      "text/plain": [
       "shape: (50, 7)\n",
       "┌───────────┬──────┬──────┬─────┬─────┬─────┬─────┐\n",
       "│ date      ┆ pm25 ┆ pm10 ┆ o3  ┆ no2 ┆ so2 ┆ co  │\n",
       "│ ---       ┆ ---  ┆ ---  ┆ --- ┆ --- ┆ --- ┆ --- │\n",
       "│ str       ┆ str  ┆ str  ┆ str ┆ str ┆ str ┆ str │\n",
       "╞═══════════╪══════╪══════╪═════╪═════╪═════╪═════╡\n",
       "│ 01-Apr-14 ┆ null ┆ 89   ┆ 12  ┆ 33  ┆ 28  ┆ 15  │\n",
       "│ 01-Apr-15 ┆ null ┆ 45   ┆ 48  ┆ 14  ┆ 14  ┆ 9   │\n",
       "│ 01-Apr-16 ┆ 134  ┆ 72   ┆ 54  ┆ 27  ┆ 1   ┆ 14  │\n",
       "│ 01-Apr-17 ┆ 145  ┆ 35   ┆ 17  ┆ 5   ┆     ┆     │\n",
       "│ 01-Apr-18 ┆ 135  ┆ 64   ┆ 30  ┆ 6   ┆ 11  ┆     │\n",
       "│ …         ┆ …    ┆ …    ┆ …   ┆ …   ┆ …   ┆ …   │\n",
       "│ 01-Jan-14 ┆ null ┆ 56   ┆ 43  ┆ 20  ┆ 3   ┆ 9   │\n",
       "│ 01-Jan-15 ┆ null ┆ 39   ┆ 37  ┆ 15  ┆ 9   ┆ 10  │\n",
       "│ 01-Jan-17 ┆ null ┆ 22   ┆ 12  ┆ 4   ┆     ┆     │\n",
       "│ 01-Jan-18 ┆ 84   ┆ 42   ┆ 15  ┆ 8   ┆     ┆     │\n",
       "│ 01-Jan-19 ┆ 88   ┆ 35   ┆ 19  ┆ 7   ┆     ┆     │\n",
       "└───────────┴──────┴──────┴─────┴─────┴─────┴─────┘"
      ]
     },
     "execution_count": 6,
     "metadata": {},
     "output_type": "execute_result"
    }
   ],
   "source": [
    "# sample query\n",
    "conn = duckdb.connect(\"./data/lake/database.duckdb\")\n",
    "waqi_airquality_raw = conn.sql(\"\"\"\n",
    "    SELECT *\n",
    "    FROM public.waqi_airquality_raw\n",
    "    ORDER BY date\n",
    "    LIMIT 50;\n",
    "    \"\"\").pl()\n",
    "waqi_airquality_raw"
   ]
  }
 ],
 "metadata": {
  "kernelspec": {
   "display_name": "Python 3 (ipykernel)",
   "language": "python",
   "name": "python3"
  },
  "language_info": {
   "codemirror_mode": {
    "name": "ipython",
    "version": 3
   },
   "file_extension": ".py",
   "mimetype": "text/x-python",
   "name": "python",
   "nbconvert_exporter": "python",
   "pygments_lexer": "ipython3",
   "version": "3.12.10"
  }
 },
 "nbformat": 4,
 "nbformat_minor": 5
}
